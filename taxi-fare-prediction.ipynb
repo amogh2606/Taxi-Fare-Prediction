{
 "cells": [
  {
   "cell_type": "code",
   "execution_count": 1,
   "id": "827f1f47",
   "metadata": {
    "_cell_guid": "b1076dfc-b9ad-4769-8c92-a6c4dae69d19",
    "_uuid": "8f2839f25d086af736a60e9eeb907d3b93b6e0e5",
    "execution": {
     "iopub.execute_input": "2023-12-08T04:24:00.471801Z",
     "iopub.status.busy": "2023-12-08T04:24:00.471430Z",
     "iopub.status.idle": "2023-12-08T04:24:03.474287Z",
     "shell.execute_reply": "2023-12-08T04:24:03.472927Z"
    },
    "papermill": {
     "duration": 3.023319,
     "end_time": "2023-12-08T04:24:03.477267",
     "exception": false,
     "start_time": "2023-12-08T04:24:00.453948",
     "status": "completed"
    },
    "tags": []
   },
   "outputs": [
    {
     "name": "stdout",
     "output_type": "stream",
     "text": [
      "/kaggle/input/taxi-fare-guru-total-amount-prediction-challenge/sample.csv.csv\n",
      "/kaggle/input/taxi-fare-guru-total-amount-prediction-challenge/train.csv\n",
      "/kaggle/input/taxi-fare-guru-total-amount-prediction-challenge/test.csv\n"
     ]
    }
   ],
   "source": [
    "# This Python 3 environment comes with many helpful analytics libraries installed\n",
    "# It is defined by the kaggle/python Docker image: https://github.com/kaggle/docker-python\n",
    "# For example, here's several helpful packages to load\n",
    "\n",
    "import numpy as np # linear algebra\n",
    "import pandas as pd # data processing, CSV file I/O (e.g. pd.read_csv)\n",
    "import seaborn as sns\n",
    "import matplotlib.pyplot as plt\n",
    "from sklearn.preprocessing import *\n",
    "from sklearn.model_selection import *\n",
    "from sklearn.linear_model import *\n",
    "from sklearn.metrics import *\n",
    "from sklearn.pipeline import *\n",
    "from sklearn.compose import *\n",
    "from sklearn.impute import *\n",
    "from sklearn.ensemble import *\n",
    "from sklearn.tree import *\n",
    "from sklearn.svm import *\n",
    "from sklearn.neighbors import *\n",
    "from sklearn.naive_bayes import *\n",
    "from sklearn.decomposition import *\n",
    "from sklearn.feature_selection import *\n",
    "from sklearn.model_selection import *\n",
    "from sklearn.neural_network import *\n",
    "from sklearn.dummy import *\n",
    "from xgboost import *\n",
    "import xgboost as xgb\n",
    "\n",
    "\n",
    "# Input data files are available in the read-only \"../input/\" directory\n",
    "# For example, running this (by clicking run or pressing Shift+Enter) will list all files under the input directory\n",
    "\n",
    "import os\n",
    "for dirname, _, filenames in os.walk('/kaggle/input'):\n",
    "    for filename in filenames:\n",
    "        print(os.path.join(dirname, filename))\n",
    "\n",
    "# You can write up to 20GB to the current directory (/kaggle/working/) that gets preserved as output when you create a version using \"Save & Run All\" \n",
    "# You can also write temporary files to /kaggle/temp/, but they won't be saved outside of the current session"
   ]
  },
  {
   "cell_type": "code",
   "execution_count": 2,
   "id": "689adbcc",
   "metadata": {
    "execution": {
     "iopub.execute_input": "2023-12-08T04:24:03.510662Z",
     "iopub.status.busy": "2023-12-08T04:24:03.510116Z",
     "iopub.status.idle": "2023-12-08T04:24:04.522045Z",
     "shell.execute_reply": "2023-12-08T04:24:04.520257Z"
    },
    "papermill": {
     "duration": 1.032393,
     "end_time": "2023-12-08T04:24:04.525427",
     "exception": false,
     "start_time": "2023-12-08T04:24:03.493034",
     "status": "completed"
    },
    "tags": []
   },
   "outputs": [],
   "source": [
    "data=pd.read_csv('/kaggle/input/taxi-fare-guru-total-amount-prediction-challenge/train.csv')\n",
    "test=pd.read_csv('/kaggle/input/taxi-fare-guru-total-amount-prediction-challenge/test.csv')"
   ]
  },
  {
   "cell_type": "code",
   "execution_count": 3,
   "id": "5fbb469e",
   "metadata": {
    "execution": {
     "iopub.execute_input": "2023-12-08T04:24:04.567394Z",
     "iopub.status.busy": "2023-12-08T04:24:04.566830Z",
     "iopub.status.idle": "2023-12-08T04:24:04.641483Z",
     "shell.execute_reply": "2023-12-08T04:24:04.639998Z"
    },
    "papermill": {
     "duration": 0.097133,
     "end_time": "2023-12-08T04:24:04.643704",
     "exception": false,
     "start_time": "2023-12-08T04:24:04.546571",
     "status": "completed"
    },
    "tags": []
   },
   "outputs": [
    {
     "name": "stdout",
     "output_type": "stream",
     "text": [
      "<class 'pandas.core.frame.DataFrame'>\n",
      "RangeIndex: 175000 entries, 0 to 174999\n",
      "Data columns (total 17 columns):\n",
      " #   Column                 Non-Null Count   Dtype  \n",
      "---  ------                 --------------   -----  \n",
      " 0   VendorID               175000 non-null  int64  \n",
      " 1   tpep_pickup_datetime   175000 non-null  object \n",
      " 2   tpep_dropoff_datetime  175000 non-null  object \n",
      " 3   passenger_count        168923 non-null  float64\n",
      " 4   trip_distance          175000 non-null  float64\n",
      " 5   RatecodeID             168923 non-null  float64\n",
      " 6   store_and_fwd_flag     168923 non-null  object \n",
      " 7   PULocationID           175000 non-null  int64  \n",
      " 8   DOLocationID           175000 non-null  int64  \n",
      " 9   payment_type           175000 non-null  object \n",
      " 10  extra                  175000 non-null  float64\n",
      " 11  tip_amount             175000 non-null  float64\n",
      " 12  tolls_amount           175000 non-null  float64\n",
      " 13  improvement_surcharge  175000 non-null  float64\n",
      " 14  total_amount           175000 non-null  float64\n",
      " 15  congestion_surcharge   168923 non-null  float64\n",
      " 16  Airport_fee            168923 non-null  float64\n",
      "dtypes: float64(10), int64(3), object(4)\n",
      "memory usage: 22.7+ MB\n"
     ]
    }
   ],
   "source": [
    "data.info()"
   ]
  },
  {
   "cell_type": "code",
   "execution_count": 4,
   "id": "2273b7ef",
   "metadata": {
    "execution": {
     "iopub.execute_input": "2023-12-08T04:24:04.676490Z",
     "iopub.status.busy": "2023-12-08T04:24:04.675640Z",
     "iopub.status.idle": "2023-12-08T04:24:04.703151Z",
     "shell.execute_reply": "2023-12-08T04:24:04.701973Z"
    },
    "papermill": {
     "duration": 0.046547,
     "end_time": "2023-12-08T04:24:04.705649",
     "exception": false,
     "start_time": "2023-12-08T04:24:04.659102",
     "status": "completed"
    },
    "tags": []
   },
   "outputs": [
    {
     "data": {
      "text/html": [
       "<div>\n",
       "<style scoped>\n",
       "    .dataframe tbody tr th:only-of-type {\n",
       "        vertical-align: middle;\n",
       "    }\n",
       "\n",
       "    .dataframe tbody tr th {\n",
       "        vertical-align: top;\n",
       "    }\n",
       "\n",
       "    .dataframe thead th {\n",
       "        text-align: right;\n",
       "    }\n",
       "</style>\n",
       "<table border=\"1\" class=\"dataframe\">\n",
       "  <thead>\n",
       "    <tr style=\"text-align: right;\">\n",
       "      <th></th>\n",
       "      <th>VendorID</th>\n",
       "      <th>tpep_pickup_datetime</th>\n",
       "      <th>tpep_dropoff_datetime</th>\n",
       "      <th>passenger_count</th>\n",
       "      <th>trip_distance</th>\n",
       "      <th>RatecodeID</th>\n",
       "      <th>store_and_fwd_flag</th>\n",
       "      <th>PULocationID</th>\n",
       "      <th>DOLocationID</th>\n",
       "      <th>payment_type</th>\n",
       "      <th>extra</th>\n",
       "      <th>tip_amount</th>\n",
       "      <th>tolls_amount</th>\n",
       "      <th>improvement_surcharge</th>\n",
       "      <th>total_amount</th>\n",
       "      <th>congestion_surcharge</th>\n",
       "      <th>Airport_fee</th>\n",
       "    </tr>\n",
       "  </thead>\n",
       "  <tbody>\n",
       "    <tr>\n",
       "      <th>0</th>\n",
       "      <td>1</td>\n",
       "      <td>2023-06-28 17:20:21</td>\n",
       "      <td>2023-06-28 16:34:45</td>\n",
       "      <td>1.0</td>\n",
       "      <td>2.14</td>\n",
       "      <td>1.0</td>\n",
       "      <td>N</td>\n",
       "      <td>120</td>\n",
       "      <td>9</td>\n",
       "      <td>Credit Card</td>\n",
       "      <td>2.5</td>\n",
       "      <td>7.165589</td>\n",
       "      <td>0.0</td>\n",
       "      <td>1.0</td>\n",
       "      <td>20.64</td>\n",
       "      <td>2.5</td>\n",
       "      <td>0.0</td>\n",
       "    </tr>\n",
       "    <tr>\n",
       "      <th>1</th>\n",
       "      <td>0</td>\n",
       "      <td>2023-06-29 23:05:01</td>\n",
       "      <td>2023-06-29 22:01:35</td>\n",
       "      <td>1.0</td>\n",
       "      <td>2.70</td>\n",
       "      <td>1.0</td>\n",
       "      <td>N</td>\n",
       "      <td>15</td>\n",
       "      <td>215</td>\n",
       "      <td>Credit Card</td>\n",
       "      <td>3.5</td>\n",
       "      <td>6.067401</td>\n",
       "      <td>0.0</td>\n",
       "      <td>1.0</td>\n",
       "      <td>25.55</td>\n",
       "      <td>2.5</td>\n",
       "      <td>0.0</td>\n",
       "    </tr>\n",
       "    <tr>\n",
       "      <th>2</th>\n",
       "      <td>1</td>\n",
       "      <td>2023-06-30 10:19:31</td>\n",
       "      <td>2023-06-30 11:13:10</td>\n",
       "      <td>1.0</td>\n",
       "      <td>1.15</td>\n",
       "      <td>1.0</td>\n",
       "      <td>N</td>\n",
       "      <td>167</td>\n",
       "      <td>223</td>\n",
       "      <td>Credit Card</td>\n",
       "      <td>0.0</td>\n",
       "      <td>4.111547</td>\n",
       "      <td>0.0</td>\n",
       "      <td>1.0</td>\n",
       "      <td>17.64</td>\n",
       "      <td>2.5</td>\n",
       "      <td>0.0</td>\n",
       "    </tr>\n",
       "    <tr>\n",
       "      <th>3</th>\n",
       "      <td>0</td>\n",
       "      <td>2023-06-29 13:23:09</td>\n",
       "      <td>2023-06-29 14:20:01</td>\n",
       "      <td>1.0</td>\n",
       "      <td>0.40</td>\n",
       "      <td>1.0</td>\n",
       "      <td>N</td>\n",
       "      <td>128</td>\n",
       "      <td>239</td>\n",
       "      <td>Credit Card</td>\n",
       "      <td>2.5</td>\n",
       "      <td>6.411079</td>\n",
       "      <td>0.0</td>\n",
       "      <td>1.0</td>\n",
       "      <td>12.80</td>\n",
       "      <td>2.5</td>\n",
       "      <td>0.0</td>\n",
       "    </tr>\n",
       "    <tr>\n",
       "      <th>4</th>\n",
       "      <td>1</td>\n",
       "      <td>2023-06-29 22:03:32</td>\n",
       "      <td>2023-06-29 22:22:22</td>\n",
       "      <td>3.0</td>\n",
       "      <td>1.10</td>\n",
       "      <td>1.0</td>\n",
       "      <td>N</td>\n",
       "      <td>203</td>\n",
       "      <td>52</td>\n",
       "      <td>Credit Card</td>\n",
       "      <td>1.0</td>\n",
       "      <td>4.769377</td>\n",
       "      <td>0.0</td>\n",
       "      <td>1.0</td>\n",
       "      <td>18.00</td>\n",
       "      <td>2.5</td>\n",
       "      <td>0.0</td>\n",
       "    </tr>\n",
       "  </tbody>\n",
       "</table>\n",
       "</div>"
      ],
      "text/plain": [
       "   VendorID tpep_pickup_datetime tpep_dropoff_datetime  passenger_count  \\\n",
       "0         1  2023-06-28 17:20:21   2023-06-28 16:34:45              1.0   \n",
       "1         0  2023-06-29 23:05:01   2023-06-29 22:01:35              1.0   \n",
       "2         1  2023-06-30 10:19:31   2023-06-30 11:13:10              1.0   \n",
       "3         0  2023-06-29 13:23:09   2023-06-29 14:20:01              1.0   \n",
       "4         1  2023-06-29 22:03:32   2023-06-29 22:22:22              3.0   \n",
       "\n",
       "   trip_distance  RatecodeID store_and_fwd_flag  PULocationID  DOLocationID  \\\n",
       "0           2.14         1.0                  N           120             9   \n",
       "1           2.70         1.0                  N            15           215   \n",
       "2           1.15         1.0                  N           167           223   \n",
       "3           0.40         1.0                  N           128           239   \n",
       "4           1.10         1.0                  N           203            52   \n",
       "\n",
       "  payment_type  extra  tip_amount  tolls_amount  improvement_surcharge  \\\n",
       "0  Credit Card    2.5    7.165589           0.0                    1.0   \n",
       "1  Credit Card    3.5    6.067401           0.0                    1.0   \n",
       "2  Credit Card    0.0    4.111547           0.0                    1.0   \n",
       "3  Credit Card    2.5    6.411079           0.0                    1.0   \n",
       "4  Credit Card    1.0    4.769377           0.0                    1.0   \n",
       "\n",
       "   total_amount  congestion_surcharge  Airport_fee  \n",
       "0         20.64                   2.5          0.0  \n",
       "1         25.55                   2.5          0.0  \n",
       "2         17.64                   2.5          0.0  \n",
       "3         12.80                   2.5          0.0  \n",
       "4         18.00                   2.5          0.0  "
      ]
     },
     "execution_count": 4,
     "metadata": {},
     "output_type": "execute_result"
    }
   ],
   "source": [
    "data.head()"
   ]
  },
  {
   "cell_type": "code",
   "execution_count": 5,
   "id": "27648d8c",
   "metadata": {
    "execution": {
     "iopub.execute_input": "2023-12-08T04:24:04.738893Z",
     "iopub.status.busy": "2023-12-08T04:24:04.738512Z",
     "iopub.status.idle": "2023-12-08T04:24:04.784481Z",
     "shell.execute_reply": "2023-12-08T04:24:04.783544Z"
    },
    "papermill": {
     "duration": 0.065211,
     "end_time": "2023-12-08T04:24:04.786663",
     "exception": false,
     "start_time": "2023-12-08T04:24:04.721452",
     "status": "completed"
    },
    "tags": []
   },
   "outputs": [
    {
     "data": {
      "text/plain": [
       "VendorID                    0\n",
       "tpep_pickup_datetime        0\n",
       "tpep_dropoff_datetime       0\n",
       "passenger_count          6077\n",
       "trip_distance               0\n",
       "RatecodeID               6077\n",
       "store_and_fwd_flag       6077\n",
       "PULocationID                0\n",
       "DOLocationID                0\n",
       "payment_type                0\n",
       "extra                       0\n",
       "tip_amount                  0\n",
       "tolls_amount                0\n",
       "improvement_surcharge       0\n",
       "total_amount                0\n",
       "congestion_surcharge     6077\n",
       "Airport_fee              6077\n",
       "dtype: int64"
      ]
     },
     "execution_count": 5,
     "metadata": {},
     "output_type": "execute_result"
    }
   ],
   "source": [
    "data.isnull().sum()"
   ]
  },
  {
   "cell_type": "code",
   "execution_count": 6,
   "id": "c89a98f6",
   "metadata": {
    "execution": {
     "iopub.execute_input": "2023-12-08T04:24:04.820448Z",
     "iopub.status.busy": "2023-12-08T04:24:04.819779Z",
     "iopub.status.idle": "2023-12-08T04:24:04.837934Z",
     "shell.execute_reply": "2023-12-08T04:24:04.837021Z"
    },
    "papermill": {
     "duration": 0.037687,
     "end_time": "2023-12-08T04:24:04.840168",
     "exception": false,
     "start_time": "2023-12-08T04:24:04.802481",
     "status": "completed"
    },
    "tags": []
   },
   "outputs": [
    {
     "data": {
      "text/plain": [
       "VendorID                    0\n",
       "tpep_pickup_datetime        0\n",
       "tpep_dropoff_datetime       0\n",
       "passenger_count          1779\n",
       "trip_distance               0\n",
       "RatecodeID               1779\n",
       "store_and_fwd_flag       1779\n",
       "PULocationID                0\n",
       "DOLocationID                0\n",
       "payment_type                0\n",
       "extra                       0\n",
       "tip_amount                  0\n",
       "tolls_amount                0\n",
       "improvement_surcharge       0\n",
       "congestion_surcharge     1779\n",
       "Airport_fee              1779\n",
       "dtype: int64"
      ]
     },
     "execution_count": 6,
     "metadata": {},
     "output_type": "execute_result"
    }
   ],
   "source": [
    "test.isnull().sum()"
   ]
  },
  {
   "cell_type": "code",
   "execution_count": 7,
   "id": "f3fb7143",
   "metadata": {
    "execution": {
     "iopub.execute_input": "2023-12-08T04:24:04.878441Z",
     "iopub.status.busy": "2023-12-08T04:24:04.878030Z",
     "iopub.status.idle": "2023-12-08T04:24:07.505678Z",
     "shell.execute_reply": "2023-12-08T04:24:07.504823Z"
    },
    "papermill": {
     "duration": 2.648591,
     "end_time": "2023-12-08T04:24:07.508105",
     "exception": false,
     "start_time": "2023-12-08T04:24:04.859514",
     "status": "completed"
    },
    "tags": []
   },
   "outputs": [
    {
     "data": {
      "text/plain": [
       "<Axes: xlabel='passenger_count', ylabel='total_amount'>"
      ]
     },
     "execution_count": 7,
     "metadata": {},
     "output_type": "execute_result"
    },
    {
     "data": {
      "image/png": "[encoded data removed]",
      "text/plain": [
       "<Figure size 640x480 with 1 Axes>"
      ]
     },
     "metadata": {},
     "output_type": "display_data"
    }
   ],
   "source": [
    "sns.lineplot(data=data,x='passenger_count',y='total_amount')"
   ]
  },
  {
   "cell_type": "markdown",
   "id": "33679e79",
   "metadata": {
    "papermill": {
     "duration": 0.016101,
     "end_time": "2023-12-08T04:24:07.541774",
     "exception": false,
     "start_time": "2023-12-08T04:24:07.525673",
     "status": "completed"
    },
    "tags": []
   },
   "source": [
    "Total amount increases with increase in number of passengers but decreases after 5 and drastically increases after 6.\n",
    "It says either the values are outliers or it falls under a different category/fare after 6 passengers"
   ]
  },
  {
   "cell_type": "code",
   "execution_count": 8,
   "id": "64cdfa69",
   "metadata": {
    "execution": {
     "iopub.execute_input": "2023-12-08T04:24:07.640801Z",
     "iopub.status.busy": "2023-12-08T04:24:07.640389Z",
     "iopub.status.idle": "2023-12-08T04:25:06.233570Z",
     "shell.execute_reply": "2023-12-08T04:25:06.232471Z"
    },
    "papermill": {
     "duration": 58.677775,
     "end_time": "2023-12-08T04:25:06.236134",
     "exception": false,
     "start_time": "2023-12-08T04:24:07.558359",
     "status": "completed"
    },
    "tags": []
   },
   "outputs": [
    {
     "data": {
      "text/plain": [
       "<Axes: xlabel='trip_distance', ylabel='total_amount'>"
      ]
     },
     "execution_count": 8,
     "metadata": {},
     "output_type": "execute_result"
    },
    {
     "data": {
      "image/png": "[encoded data removed]",
      "text/plain": [
       "<Figure size 640x480 with 1 Axes>"
      ]
     },
     "metadata": {},
     "output_type": "display_data"
    }
   ],
   "source": [
    "sns.lineplot(data=data,x='trip_distance',y='total_amount')"
   ]
  },
  {
   "cell_type": "markdown",
   "id": "c9c55992",
   "metadata": {
    "papermill": {
     "duration": 0.016708,
     "end_time": "2023-12-08T04:25:06.270117",
     "exception": false,
     "start_time": "2023-12-08T04:25:06.253409",
     "status": "completed"
    },
    "tags": []
   },
   "source": [
    "Total amount seem to be reducing with increase in trip distance. The extremely high values of trip distance seem to be outliers."
   ]
  },
  {
   "cell_type": "code",
   "execution_count": 9,
   "id": "92a68fdd",
   "metadata": {
    "execution": {
     "iopub.execute_input": "2023-12-08T04:25:06.306639Z",
     "iopub.status.busy": "2023-12-08T04:25:06.305968Z",
     "iopub.status.idle": "2023-12-08T04:25:06.696940Z",
     "shell.execute_reply": "2023-12-08T04:25:06.695826Z"
    },
    "papermill": {
     "duration": 0.412259,
     "end_time": "2023-12-08T04:25:06.699562",
     "exception": false,
     "start_time": "2023-12-08T04:25:06.287303",
     "status": "completed"
    },
    "tags": []
   },
   "outputs": [
    {
     "data": {
      "text/plain": [
       "<Axes: xlabel='store_and_fwd_flag', ylabel='total_amount'>"
      ]
     },
     "execution_count": 9,
     "metadata": {},
     "output_type": "execute_result"
    },
    {
     "data": {
      "image/png": "[encoded data removed]",
      "text/plain": [
       "<Figure size 640x480 with 1 Axes>"
      ]
     },
     "metadata": {},
     "output_type": "display_data"
    }
   ],
   "source": [
    "sns.boxplot(data=data,x='store_and_fwd_flag',y='total_amount')"
   ]
  },
  {
   "cell_type": "code",
   "execution_count": 10,
   "id": "964b2672",
   "metadata": {
    "execution": {
     "iopub.execute_input": "2023-12-08T04:25:06.738998Z",
     "iopub.status.busy": "2023-12-08T04:25:06.738596Z",
     "iopub.status.idle": "2023-12-08T04:25:07.631840Z",
     "shell.execute_reply": "2023-12-08T04:25:07.630681Z"
    },
    "papermill": {
     "duration": 0.915423,
     "end_time": "2023-12-08T04:25:07.634405",
     "exception": false,
     "start_time": "2023-12-08T04:25:06.718982",
     "status": "completed"
    },
    "tags": []
   },
   "outputs": [
    {
     "data": {
      "text/plain": [
       "<Axes: xlabel='trip_distance', ylabel='RatecodeID'>"
      ]
     },
     "execution_count": 10,
     "metadata": {},
     "output_type": "execute_result"
    },
    {
     "data": {
      "image/png": "[encoded data removed]",
      "text/plain": [
       "<Figure size 640x480 with 1 Axes>"
      ]
     },
     "metadata": {},
     "output_type": "display_data"
    }
   ],
   "source": [
    "sns.scatterplot(data=data,x='trip_distance',y='RatecodeID')"
   ]
  },
  {
   "cell_type": "markdown",
   "id": "15d2c88f",
   "metadata": {
    "papermill": {
     "duration": 0.017655,
     "end_time": "2023-12-08T04:25:07.670347",
     "exception": false,
     "start_time": "2023-12-08T04:25:07.652692",
     "status": "completed"
    },
    "tags": []
   },
   "source": [
    "Rate code ID doesnt seem to have any relation with trip distance"
   ]
  },
  {
   "cell_type": "code",
   "execution_count": 11,
   "id": "d1ccab85",
   "metadata": {
    "execution": {
     "iopub.execute_input": "2023-12-08T04:25:07.709168Z",
     "iopub.status.busy": "2023-12-08T04:25:07.708762Z",
     "iopub.status.idle": "2023-12-08T04:25:08.604859Z",
     "shell.execute_reply": "2023-12-08T04:25:08.603622Z"
    },
    "papermill": {
     "duration": 0.918606,
     "end_time": "2023-12-08T04:25:08.607161",
     "exception": false,
     "start_time": "2023-12-08T04:25:07.688555",
     "status": "completed"
    },
    "tags": []
   },
   "outputs": [
    {
     "data": {
      "text/plain": [
       "<Axes: xlabel='RatecodeID', ylabel='total_amount'>"
      ]
     },
     "execution_count": 11,
     "metadata": {},
     "output_type": "execute_result"
    },
    {
     "data": {
      "image/png": "[encoded data removed]",
      "text/plain": [
       "<Figure size 640x480 with 1 Axes>"
      ]
     },
     "metadata": {},
     "output_type": "display_data"
    }
   ],
   "source": [
    "sns.scatterplot(data=data,x='RatecodeID',y='total_amount')"
   ]
  },
  {
   "cell_type": "code",
   "execution_count": 12,
   "id": "ead0b857",
   "metadata": {
    "execution": {
     "iopub.execute_input": "2023-12-08T04:25:08.646416Z",
     "iopub.status.busy": "2023-12-08T04:25:08.645978Z",
     "iopub.status.idle": "2023-12-08T04:25:09.577066Z",
     "shell.execute_reply": "2023-12-08T04:25:09.575793Z"
    },
    "papermill": {
     "duration": 0.953417,
     "end_time": "2023-12-08T04:25:09.579475",
     "exception": false,
     "start_time": "2023-12-08T04:25:08.626058",
     "status": "completed"
    },
    "tags": []
   },
   "outputs": [
    {
     "data": {
      "text/plain": [
       "<Axes: xlabel='trip_distance', ylabel='total_amount'>"
      ]
     },
     "execution_count": 12,
     "metadata": {},
     "output_type": "execute_result"
    },
    {
     "data": {
      "image/png": "[encoded data removed]",
      "text/plain": [
       "<Figure size 640x480 with 1 Axes>"
      ]
     },
     "metadata": {},
     "output_type": "display_data"
    }
   ],
   "source": [
    "sns.scatterplot(data=data,x='trip_distance',y='total_amount')"
   ]
  },
  {
   "cell_type": "code",
   "execution_count": 13,
   "id": "8cf6b88a",
   "metadata": {
    "execution": {
     "iopub.execute_input": "2023-12-08T04:25:09.620817Z",
     "iopub.status.busy": "2023-12-08T04:25:09.619782Z",
     "iopub.status.idle": "2023-12-08T04:25:10.503023Z",
     "shell.execute_reply": "2023-12-08T04:25:10.501977Z"
    },
    "papermill": {
     "duration": 0.906678,
     "end_time": "2023-12-08T04:25:10.505601",
     "exception": false,
     "start_time": "2023-12-08T04:25:09.598923",
     "status": "completed"
    },
    "tags": []
   },
   "outputs": [
    {
     "data": {
      "text/plain": [
       "<Axes: xlabel='RatecodeID', ylabel='passenger_count'>"
      ]
     },
     "execution_count": 13,
     "metadata": {},
     "output_type": "execute_result"
    },
    {
     "data": {
      "image/png": "[encoded data removed]",
      "text/plain": [
       "<Figure size 640x480 with 1 Axes>"
      ]
     },
     "metadata": {},
     "output_type": "display_data"
    }
   ],
   "source": [
    "sns.scatterplot(data=data,x='RatecodeID',y='passenger_count')"
   ]
  },
  {
   "cell_type": "code",
   "execution_count": 14,
   "id": "5900d625",
   "metadata": {
    "execution": {
     "iopub.execute_input": "2023-12-08T04:25:10.547339Z",
     "iopub.status.busy": "2023-12-08T04:25:10.546876Z",
     "iopub.status.idle": "2023-12-08T04:25:11.430149Z",
     "shell.execute_reply": "2023-12-08T04:25:11.429071Z"
    },
    "papermill": {
     "duration": 0.90696,
     "end_time": "2023-12-08T04:25:11.432592",
     "exception": false,
     "start_time": "2023-12-08T04:25:10.525632",
     "status": "completed"
    },
    "tags": []
   },
   "outputs": [
    {
     "data": {
      "text/plain": [
       "<Axes: xlabel='RatecodeID', ylabel='congestion_surcharge'>"
      ]
     },
     "execution_count": 14,
     "metadata": {},
     "output_type": "execute_result"
    },
    {
     "data": {
      "image/png": "[encoded data removed]",
      "text/plain": [
       "<Figure size 640x480 with 1 Axes>"
      ]
     },
     "metadata": {},
     "output_type": "display_data"
    }
   ],
   "source": [
    "sns.scatterplot(data=data,x='RatecodeID',y='congestion_surcharge')"
   ]
  },
  {
   "cell_type": "code",
   "execution_count": 15,
   "id": "eb73675a",
   "metadata": {
    "execution": {
     "iopub.execute_input": "2023-12-08T04:25:11.475419Z",
     "iopub.status.busy": "2023-12-08T04:25:11.474993Z",
     "iopub.status.idle": "2023-12-08T04:26:10.664598Z",
     "shell.execute_reply": "2023-12-08T04:26:10.663509Z"
    },
    "papermill": {
     "duration": 59.213909,
     "end_time": "2023-12-08T04:26:10.667026",
     "exception": false,
     "start_time": "2023-12-08T04:25:11.453117",
     "status": "completed"
    },
    "tags": []
   },
   "outputs": [
    {
     "data": {
      "text/plain": [
       "<Axes: xlabel='trip_distance', ylabel='total_amount'>"
      ]
     },
     "execution_count": 15,
     "metadata": {},
     "output_type": "execute_result"
    },
    {
     "data": {
      "image/png": "[encoded data removed]",
      "text/plain": [
       "<Figure size 640x480 with 1 Axes>"
      ]
     },
     "metadata": {},
     "output_type": "display_data"
    }
   ],
   "source": [
    "sns.lineplot(data=data,x='trip_distance',y='total_amount')"
   ]
  },
  {
   "cell_type": "code",
   "execution_count": 16,
   "id": "01a1146f",
   "metadata": {
    "execution": {
     "iopub.execute_input": "2023-12-08T04:26:10.710738Z",
     "iopub.status.busy": "2023-12-08T04:26:10.710296Z",
     "iopub.status.idle": "2023-12-08T04:28:11.298078Z",
     "shell.execute_reply": "2023-12-08T04:28:11.297017Z"
    },
    "papermill": {
     "duration": 120.613137,
     "end_time": "2023-12-08T04:28:11.301098",
     "exception": false,
     "start_time": "2023-12-08T04:26:10.687961",
     "status": "completed"
    },
    "tags": []
   },
   "outputs": [
    {
     "data": {
      "text/plain": [
       "<Axes: xlabel='total_amount', ylabel='tip_amount'>"
      ]
     },
     "execution_count": 16,
     "metadata": {},
     "output_type": "execute_result"
    },
    {
     "data": {
      "image/png": "[encoded data removed]",
      "text/plain": [
       "<Figure size 640x480 with 1 Axes>"
      ]
     },
     "metadata": {},
     "output_type": "display_data"
    }
   ],
   "source": [
    "sns.lineplot(data=data,x='total_amount',y='tip_amount')"
   ]
  },
  {
   "cell_type": "code",
   "execution_count": 17,
   "id": "e66a55b1",
   "metadata": {
    "execution": {
     "iopub.execute_input": "2023-12-08T04:28:11.345535Z",
     "iopub.status.busy": "2023-12-08T04:28:11.345114Z",
     "iopub.status.idle": "2023-12-08T04:28:11.349862Z",
     "shell.execute_reply": "2023-12-08T04:28:11.348810Z"
    },
    "papermill": {
     "duration": 0.029557,
     "end_time": "2023-12-08T04:28:11.352145",
     "exception": false,
     "start_time": "2023-12-08T04:28:11.322588",
     "status": "completed"
    },
    "tags": []
   },
   "outputs": [],
   "source": [
    "# sns.pairplot(data)"
   ]
  },
  {
   "cell_type": "markdown",
   "id": "e5cd52c1",
   "metadata": {
    "papermill": {
     "duration": 0.021335,
     "end_time": "2023-12-08T04:28:11.395501",
     "exception": false,
     "start_time": "2023-12-08T04:28:11.374166",
     "status": "completed"
    },
    "tags": []
   },
   "source": [
    "IMPUTING MISSING VALUES"
   ]
  },
  {
   "cell_type": "code",
   "execution_count": 18,
   "id": "b04a2073",
   "metadata": {
    "execution": {
     "iopub.execute_input": "2023-12-08T04:28:11.442855Z",
     "iopub.status.busy": "2023-12-08T04:28:11.442453Z",
     "iopub.status.idle": "2023-12-08T04:28:11.447059Z",
     "shell.execute_reply": "2023-12-08T04:28:11.445824Z"
    },
    "papermill": {
     "duration": 0.030644,
     "end_time": "2023-12-08T04:28:11.449388",
     "exception": false,
     "start_time": "2023-12-08T04:28:11.418744",
     "status": "completed"
    },
    "tags": []
   },
   "outputs": [],
   "source": [
    "# def impute(data):\n",
    "#     for a in data.isnull():\n",
    "#         if data[a].isnull().sum()>0:\n",
    "#             data[a].fillna(data[a].mode()[0],inplace=True)"
   ]
  },
  {
   "cell_type": "code",
   "execution_count": 19,
   "id": "9d91557a",
   "metadata": {
    "execution": {
     "iopub.execute_input": "2023-12-08T04:28:11.494498Z",
     "iopub.status.busy": "2023-12-08T04:28:11.494067Z",
     "iopub.status.idle": "2023-12-08T04:28:11.498456Z",
     "shell.execute_reply": "2023-12-08T04:28:11.497260Z"
    },
    "papermill": {
     "duration": 0.029826,
     "end_time": "2023-12-08T04:28:11.500666",
     "exception": false,
     "start_time": "2023-12-08T04:28:11.470840",
     "status": "completed"
    },
    "tags": []
   },
   "outputs": [],
   "source": [
    "# impute(data)\n",
    "# impute(test)"
   ]
  },
  {
   "cell_type": "code",
   "execution_count": 20,
   "id": "33972537",
   "metadata": {
    "execution": {
     "iopub.execute_input": "2023-12-08T04:28:11.546181Z",
     "iopub.status.busy": "2023-12-08T04:28:11.545261Z",
     "iopub.status.idle": "2023-12-08T04:28:13.170193Z",
     "shell.execute_reply": "2023-12-08T04:28:13.169019Z"
    },
    "papermill": {
     "duration": 1.650505,
     "end_time": "2023-12-08T04:28:13.172859",
     "exception": false,
     "start_time": "2023-12-08T04:28:11.522354",
     "status": "completed"
    },
    "tags": []
   },
   "outputs": [],
   "source": [
    "si=SimpleImputer(strategy='most_frequent',missing_values=np.nan)\n",
    "data=pd.DataFrame(si.fit_transform(data),columns=data.columns).astype(data.dtypes.to_dict())\n",
    "test=pd.DataFrame(si.fit_transform(test),columns=test.columns).astype(test.dtypes.to_dict())"
   ]
  },
  {
   "cell_type": "code",
   "execution_count": 21,
   "id": "5b1b61aa",
   "metadata": {
    "execution": {
     "iopub.execute_input": "2023-12-08T04:28:13.217741Z",
     "iopub.status.busy": "2023-12-08T04:28:13.216961Z",
     "iopub.status.idle": "2023-12-08T04:28:13.224520Z",
     "shell.execute_reply": "2023-12-08T04:28:13.223299Z"
    },
    "papermill": {
     "duration": 0.032194,
     "end_time": "2023-12-08T04:28:13.226481",
     "exception": false,
     "start_time": "2023-12-08T04:28:13.194287",
     "status": "completed"
    },
    "tags": []
   },
   "outputs": [
    {
     "data": {
      "text/plain": [
       "VendorID                   int64\n",
       "tpep_pickup_datetime      object\n",
       "tpep_dropoff_datetime     object\n",
       "passenger_count          float64\n",
       "trip_distance            float64\n",
       "RatecodeID               float64\n",
       "store_and_fwd_flag        object\n",
       "PULocationID               int64\n",
       "DOLocationID               int64\n",
       "payment_type              object\n",
       "extra                    float64\n",
       "tip_amount               float64\n",
       "tolls_amount             float64\n",
       "improvement_surcharge    float64\n",
       "total_amount             float64\n",
       "congestion_surcharge     float64\n",
       "Airport_fee              float64\n",
       "dtype: object"
      ]
     },
     "execution_count": 21,
     "metadata": {},
     "output_type": "execute_result"
    }
   ],
   "source": [
    "data.dtypes"
   ]
  },
  {
   "cell_type": "code",
   "execution_count": 22,
   "id": "22e89d4a",
   "metadata": {
    "execution": {
     "iopub.execute_input": "2023-12-08T04:28:13.271856Z",
     "iopub.status.busy": "2023-12-08T04:28:13.270817Z",
     "iopub.status.idle": "2023-12-08T04:28:13.290760Z",
     "shell.execute_reply": "2023-12-08T04:28:13.289900Z"
    },
    "papermill": {
     "duration": 0.045098,
     "end_time": "2023-12-08T04:28:13.292969",
     "exception": false,
     "start_time": "2023-12-08T04:28:13.247871",
     "status": "completed"
    },
    "tags": []
   },
   "outputs": [
    {
     "data": {
      "text/plain": [
       "VendorID                 0\n",
       "tpep_pickup_datetime     0\n",
       "tpep_dropoff_datetime    0\n",
       "passenger_count          0\n",
       "trip_distance            0\n",
       "RatecodeID               0\n",
       "store_and_fwd_flag       0\n",
       "PULocationID             0\n",
       "DOLocationID             0\n",
       "payment_type             0\n",
       "extra                    0\n",
       "tip_amount               0\n",
       "tolls_amount             0\n",
       "improvement_surcharge    0\n",
       "congestion_surcharge     0\n",
       "Airport_fee              0\n",
       "dtype: int64"
      ]
     },
     "execution_count": 22,
     "metadata": {},
     "output_type": "execute_result"
    }
   ],
   "source": [
    "test.isnull().sum()"
   ]
  },
  {
   "cell_type": "markdown",
   "id": "da7cf0f7",
   "metadata": {
    "papermill": {
     "duration": 0.021174,
     "end_time": "2023-12-08T04:28:13.336139",
     "exception": false,
     "start_time": "2023-12-08T04:28:13.314965",
     "status": "completed"
    },
    "tags": []
   },
   "source": [
    "PREPROCESSING"
   ]
  },
  {
   "cell_type": "code",
   "execution_count": 23,
   "id": "9b29d1fa",
   "metadata": {
    "execution": {
     "iopub.execute_input": "2023-12-08T04:28:13.381568Z",
     "iopub.status.busy": "2023-12-08T04:28:13.380943Z",
     "iopub.status.idle": "2023-12-08T04:28:13.387066Z",
     "shell.execute_reply": "2023-12-08T04:28:13.385972Z"
    },
    "papermill": {
     "duration": 0.031071,
     "end_time": "2023-12-08T04:28:13.389077",
     "exception": false,
     "start_time": "2023-12-08T04:28:13.358006",
     "status": "completed"
    },
    "tags": []
   },
   "outputs": [],
   "source": [
    "def total_seconds(data):\n",
    "    l=[]\n",
    "    for i in range(len(data)):\n",
    "        time1 = data['tpep_dropoff_datetime'][i]\n",
    "        time2 = data['tpep_pickup_datetime'][i]\n",
    "        dt = np.datetime64(time1) - np.datetime64(time2)\n",
    "        d_num=int(str(dt).strip(' seconds'))\n",
    "#         print(abs(d_num))\n",
    "        l.append(abs(d_num))\n",
    "    data['trip_duration']=l"
   ]
  },
  {
   "cell_type": "markdown",
   "id": "70b94fb8",
   "metadata": {
    "papermill": {
     "duration": 0.021331,
     "end_time": "2023-12-08T04:28:13.431792",
     "exception": false,
     "start_time": "2023-12-08T04:28:13.410461",
     "status": "completed"
    },
    "tags": []
   },
   "source": [
    "Since many of the values for the drop off time was before pick up time the trip duration was in negatives. Hence absolute value was considered as negative time doesnt make sense."
   ]
  },
  {
   "cell_type": "code",
   "execution_count": 24,
   "id": "478ea904",
   "metadata": {
    "execution": {
     "iopub.execute_input": "2023-12-08T04:28:13.476328Z",
     "iopub.status.busy": "2023-12-08T04:28:13.475133Z",
     "iopub.status.idle": "2023-12-08T04:28:17.550966Z",
     "shell.execute_reply": "2023-12-08T04:28:17.549735Z"
    },
    "papermill": {
     "duration": 4.100639,
     "end_time": "2023-12-08T04:28:17.553559",
     "exception": false,
     "start_time": "2023-12-08T04:28:13.452920",
     "status": "completed"
    },
    "tags": []
   },
   "outputs": [],
   "source": [
    "total_seconds(data)\n",
    "total_seconds(test)"
   ]
  },
  {
   "cell_type": "code",
   "execution_count": 25,
   "id": "9ed0009a",
   "metadata": {
    "execution": {
     "iopub.execute_input": "2023-12-08T04:28:17.599040Z",
     "iopub.status.busy": "2023-12-08T04:28:17.598623Z",
     "iopub.status.idle": "2023-12-08T04:28:17.622510Z",
     "shell.execute_reply": "2023-12-08T04:28:17.621388Z"
    },
    "papermill": {
     "duration": 0.04967,
     "end_time": "2023-12-08T04:28:17.624668",
     "exception": false,
     "start_time": "2023-12-08T04:28:17.574998",
     "status": "completed"
    },
    "tags": []
   },
   "outputs": [
    {
     "data": {
      "text/html": [
       "<div>\n",
       "<style scoped>\n",
       "    .dataframe tbody tr th:only-of-type {\n",
       "        vertical-align: middle;\n",
       "    }\n",
       "\n",
       "    .dataframe tbody tr th {\n",
       "        vertical-align: top;\n",
       "    }\n",
       "\n",
       "    .dataframe thead th {\n",
       "        text-align: right;\n",
       "    }\n",
       "</style>\n",
       "<table border=\"1\" class=\"dataframe\">\n",
       "  <thead>\n",
       "    <tr style=\"text-align: right;\">\n",
       "      <th></th>\n",
       "      <th>VendorID</th>\n",
       "      <th>tpep_pickup_datetime</th>\n",
       "      <th>tpep_dropoff_datetime</th>\n",
       "      <th>passenger_count</th>\n",
       "      <th>trip_distance</th>\n",
       "      <th>RatecodeID</th>\n",
       "      <th>store_and_fwd_flag</th>\n",
       "      <th>PULocationID</th>\n",
       "      <th>DOLocationID</th>\n",
       "      <th>payment_type</th>\n",
       "      <th>extra</th>\n",
       "      <th>tip_amount</th>\n",
       "      <th>tolls_amount</th>\n",
       "      <th>improvement_surcharge</th>\n",
       "      <th>total_amount</th>\n",
       "      <th>congestion_surcharge</th>\n",
       "      <th>Airport_fee</th>\n",
       "      <th>trip_duration</th>\n",
       "    </tr>\n",
       "  </thead>\n",
       "  <tbody>\n",
       "    <tr>\n",
       "      <th>0</th>\n",
       "      <td>1</td>\n",
       "      <td>2023-06-28 17:20:21</td>\n",
       "      <td>2023-06-28 16:34:45</td>\n",
       "      <td>1.0</td>\n",
       "      <td>2.14</td>\n",
       "      <td>1.0</td>\n",
       "      <td>N</td>\n",
       "      <td>120</td>\n",
       "      <td>9</td>\n",
       "      <td>Credit Card</td>\n",
       "      <td>2.5</td>\n",
       "      <td>7.165589</td>\n",
       "      <td>0.0</td>\n",
       "      <td>1.0</td>\n",
       "      <td>20.64</td>\n",
       "      <td>2.5</td>\n",
       "      <td>0.0</td>\n",
       "      <td>2736</td>\n",
       "    </tr>\n",
       "    <tr>\n",
       "      <th>1</th>\n",
       "      <td>0</td>\n",
       "      <td>2023-06-29 23:05:01</td>\n",
       "      <td>2023-06-29 22:01:35</td>\n",
       "      <td>1.0</td>\n",
       "      <td>2.70</td>\n",
       "      <td>1.0</td>\n",
       "      <td>N</td>\n",
       "      <td>15</td>\n",
       "      <td>215</td>\n",
       "      <td>Credit Card</td>\n",
       "      <td>3.5</td>\n",
       "      <td>6.067401</td>\n",
       "      <td>0.0</td>\n",
       "      <td>1.0</td>\n",
       "      <td>25.55</td>\n",
       "      <td>2.5</td>\n",
       "      <td>0.0</td>\n",
       "      <td>3806</td>\n",
       "    </tr>\n",
       "    <tr>\n",
       "      <th>2</th>\n",
       "      <td>1</td>\n",
       "      <td>2023-06-30 10:19:31</td>\n",
       "      <td>2023-06-30 11:13:10</td>\n",
       "      <td>1.0</td>\n",
       "      <td>1.15</td>\n",
       "      <td>1.0</td>\n",
       "      <td>N</td>\n",
       "      <td>167</td>\n",
       "      <td>223</td>\n",
       "      <td>Credit Card</td>\n",
       "      <td>0.0</td>\n",
       "      <td>4.111547</td>\n",
       "      <td>0.0</td>\n",
       "      <td>1.0</td>\n",
       "      <td>17.64</td>\n",
       "      <td>2.5</td>\n",
       "      <td>0.0</td>\n",
       "      <td>3219</td>\n",
       "    </tr>\n",
       "    <tr>\n",
       "      <th>3</th>\n",
       "      <td>0</td>\n",
       "      <td>2023-06-29 13:23:09</td>\n",
       "      <td>2023-06-29 14:20:01</td>\n",
       "      <td>1.0</td>\n",
       "      <td>0.40</td>\n",
       "      <td>1.0</td>\n",
       "      <td>N</td>\n",
       "      <td>128</td>\n",
       "      <td>239</td>\n",
       "      <td>Credit Card</td>\n",
       "      <td>2.5</td>\n",
       "      <td>6.411079</td>\n",
       "      <td>0.0</td>\n",
       "      <td>1.0</td>\n",
       "      <td>12.80</td>\n",
       "      <td>2.5</td>\n",
       "      <td>0.0</td>\n",
       "      <td>3412</td>\n",
       "    </tr>\n",
       "    <tr>\n",
       "      <th>4</th>\n",
       "      <td>1</td>\n",
       "      <td>2023-06-29 22:03:32</td>\n",
       "      <td>2023-06-29 22:22:22</td>\n",
       "      <td>3.0</td>\n",
       "      <td>1.10</td>\n",
       "      <td>1.0</td>\n",
       "      <td>N</td>\n",
       "      <td>203</td>\n",
       "      <td>52</td>\n",
       "      <td>Credit Card</td>\n",
       "      <td>1.0</td>\n",
       "      <td>4.769377</td>\n",
       "      <td>0.0</td>\n",
       "      <td>1.0</td>\n",
       "      <td>18.00</td>\n",
       "      <td>2.5</td>\n",
       "      <td>0.0</td>\n",
       "      <td>1130</td>\n",
       "    </tr>\n",
       "  </tbody>\n",
       "</table>\n",
       "</div>"
      ],
      "text/plain": [
       "   VendorID tpep_pickup_datetime tpep_dropoff_datetime  passenger_count  \\\n",
       "0         1  2023-06-28 17:20:21   2023-06-28 16:34:45              1.0   \n",
       "1         0  2023-06-29 23:05:01   2023-06-29 22:01:35              1.0   \n",
       "2         1  2023-06-30 10:19:31   2023-06-30 11:13:10              1.0   \n",
       "3         0  2023-06-29 13:23:09   2023-06-29 14:20:01              1.0   \n",
       "4         1  2023-06-29 22:03:32   2023-06-29 22:22:22              3.0   \n",
       "\n",
       "   trip_distance  RatecodeID store_and_fwd_flag  PULocationID  DOLocationID  \\\n",
       "0           2.14         1.0                  N           120             9   \n",
       "1           2.70         1.0                  N            15           215   \n",
       "2           1.15         1.0                  N           167           223   \n",
       "3           0.40         1.0                  N           128           239   \n",
       "4           1.10         1.0                  N           203            52   \n",
       "\n",
       "  payment_type  extra  tip_amount  tolls_amount  improvement_surcharge  \\\n",
       "0  Credit Card    2.5    7.165589           0.0                    1.0   \n",
       "1  Credit Card    3.5    6.067401           0.0                    1.0   \n",
       "2  Credit Card    0.0    4.111547           0.0                    1.0   \n",
       "3  Credit Card    2.5    6.411079           0.0                    1.0   \n",
       "4  Credit Card    1.0    4.769377           0.0                    1.0   \n",
       "\n",
       "   total_amount  congestion_surcharge  Airport_fee  trip_duration  \n",
       "0         20.64                   2.5          0.0           2736  \n",
       "1         25.55                   2.5          0.0           3806  \n",
       "2         17.64                   2.5          0.0           3219  \n",
       "3         12.80                   2.5          0.0           3412  \n",
       "4         18.00                   2.5          0.0           1130  "
      ]
     },
     "execution_count": 25,
     "metadata": {},
     "output_type": "execute_result"
    }
   ],
   "source": [
    "data.head()"
   ]
  },
  {
   "cell_type": "code",
   "execution_count": 26,
   "id": "6d457344",
   "metadata": {
    "execution": {
     "iopub.execute_input": "2023-12-08T04:28:17.670299Z",
     "iopub.status.busy": "2023-12-08T04:28:17.669904Z",
     "iopub.status.idle": "2023-12-08T04:28:17.697738Z",
     "shell.execute_reply": "2023-12-08T04:28:17.696631Z"
    },
    "papermill": {
     "duration": 0.054319,
     "end_time": "2023-12-08T04:28:17.700533",
     "exception": false,
     "start_time": "2023-12-08T04:28:17.646214",
     "status": "completed"
    },
    "tags": []
   },
   "outputs": [],
   "source": [
    "X1=data.drop(['total_amount','tpep_dropoff_datetime','tpep_pickup_datetime'],axis=1)\n",
    "y1=data['total_amount']\n",
    "test.drop(['tpep_pickup_datetime','tpep_dropoff_datetime'],axis=1,inplace=True)"
   ]
  },
  {
   "cell_type": "code",
   "execution_count": 27,
   "id": "3a6afcc1",
   "metadata": {
    "execution": {
     "iopub.execute_input": "2023-12-08T04:28:17.746119Z",
     "iopub.status.busy": "2023-12-08T04:28:17.745738Z",
     "iopub.status.idle": "2023-12-08T04:28:17.750399Z",
     "shell.execute_reply": "2023-12-08T04:28:17.749299Z"
    },
    "papermill": {
     "duration": 0.029861,
     "end_time": "2023-12-08T04:28:17.752538",
     "exception": false,
     "start_time": "2023-12-08T04:28:17.722677",
     "status": "completed"
    },
    "tags": []
   },
   "outputs": [],
   "source": [
    "le=LabelEncoder()"
   ]
  },
  {
   "cell_type": "code",
   "execution_count": 28,
   "id": "f2cabe81",
   "metadata": {
    "execution": {
     "iopub.execute_input": "2023-12-08T04:28:17.797582Z",
     "iopub.status.busy": "2023-12-08T04:28:17.797142Z",
     "iopub.status.idle": "2023-12-08T04:28:17.882595Z",
     "shell.execute_reply": "2023-12-08T04:28:17.881311Z"
    },
    "papermill": {
     "duration": 0.111042,
     "end_time": "2023-12-08T04:28:17.885200",
     "exception": false,
     "start_time": "2023-12-08T04:28:17.774158",
     "status": "completed"
    },
    "tags": []
   },
   "outputs": [],
   "source": [
    "X1['payment_type']=le.fit_transform(X1['payment_type'])\n",
    "X1['store_and_fwd_flag']=le.fit_transform(X1['store_and_fwd_flag'])"
   ]
  },
  {
   "cell_type": "code",
   "execution_count": 29,
   "id": "0cde5efb",
   "metadata": {
    "execution": {
     "iopub.execute_input": "2023-12-08T04:28:17.933216Z",
     "iopub.status.busy": "2023-12-08T04:28:17.931251Z",
     "iopub.status.idle": "2023-12-08T04:28:17.961598Z",
     "shell.execute_reply": "2023-12-08T04:28:17.960346Z"
    },
    "papermill": {
     "duration": 0.056703,
     "end_time": "2023-12-08T04:28:17.964197",
     "exception": false,
     "start_time": "2023-12-08T04:28:17.907494",
     "status": "completed"
    },
    "tags": []
   },
   "outputs": [],
   "source": [
    "test['payment_type']=le.fit_transform(test['payment_type'])\n",
    "test['store_and_fwd_flag']=le.fit_transform(test['store_and_fwd_flag'])"
   ]
  },
  {
   "cell_type": "code",
   "execution_count": null,
   "id": "8ddb68fc",
   "metadata": {
    "papermill": {
     "duration": 0.021561,
     "end_time": "2023-12-08T04:28:18.007686",
     "exception": false,
     "start_time": "2023-12-08T04:28:17.986125",
     "status": "completed"
    },
    "tags": []
   },
   "outputs": [],
   "source": []
  },
  {
   "cell_type": "markdown",
   "id": "d1b444c9",
   "metadata": {
    "papermill": {
     "duration": 0.021525,
     "end_time": "2023-12-08T04:28:18.051083",
     "exception": false,
     "start_time": "2023-12-08T04:28:18.029558",
     "status": "completed"
    },
    "tags": []
   },
   "source": [
    "MODEL TRAINING"
   ]
  },
  {
   "cell_type": "code",
   "execution_count": 30,
   "id": "bfa7652e",
   "metadata": {
    "execution": {
     "iopub.execute_input": "2023-12-08T04:28:18.096482Z",
     "iopub.status.busy": "2023-12-08T04:28:18.096063Z",
     "iopub.status.idle": "2023-12-08T04:28:18.155696Z",
     "shell.execute_reply": "2023-12-08T04:28:18.154438Z"
    },
    "papermill": {
     "duration": 0.085698,
     "end_time": "2023-12-08T04:28:18.158579",
     "exception": false,
     "start_time": "2023-12-08T04:28:18.072881",
     "status": "completed"
    },
    "tags": []
   },
   "outputs": [],
   "source": [
    "X1_train,X1_test,y1_train,y1_test=train_test_split(X1,y1,test_size=0.2,random_state=42)"
   ]
  },
  {
   "cell_type": "code",
   "execution_count": 31,
   "id": "692c86fc",
   "metadata": {
    "execution": {
     "iopub.execute_input": "2023-12-08T04:28:18.204870Z",
     "iopub.status.busy": "2023-12-08T04:28:18.204453Z",
     "iopub.status.idle": "2023-12-08T04:28:18.211013Z",
     "shell.execute_reply": "2023-12-08T04:28:18.209990Z"
    },
    "papermill": {
     "duration": 0.031879,
     "end_time": "2023-12-08T04:28:18.213030",
     "exception": false,
     "start_time": "2023-12-08T04:28:18.181151",
     "status": "completed"
    },
    "tags": []
   },
   "outputs": [
    {
     "data": {
      "text/plain": [
       "(140000, 15)"
      ]
     },
     "execution_count": 31,
     "metadata": {},
     "output_type": "execute_result"
    }
   ],
   "source": [
    "X1_train.shape"
   ]
  },
  {
   "cell_type": "code",
   "execution_count": 32,
   "id": "a2eeb056",
   "metadata": {
    "execution": {
     "iopub.execute_input": "2023-12-08T04:28:18.258728Z",
     "iopub.status.busy": "2023-12-08T04:28:18.257952Z",
     "iopub.status.idle": "2023-12-08T04:28:18.264047Z",
     "shell.execute_reply": "2023-12-08T04:28:18.263034Z"
    },
    "papermill": {
     "duration": 0.031224,
     "end_time": "2023-12-08T04:28:18.266173",
     "exception": false,
     "start_time": "2023-12-08T04:28:18.234949",
     "status": "completed"
    },
    "tags": []
   },
   "outputs": [
    {
     "data": {
      "text/plain": [
       "(35000, 15)"
      ]
     },
     "execution_count": 32,
     "metadata": {},
     "output_type": "execute_result"
    }
   ],
   "source": [
    "X1_test.shape"
   ]
  },
  {
   "cell_type": "code",
   "execution_count": 33,
   "id": "ad8b01dd",
   "metadata": {
    "execution": {
     "iopub.execute_input": "2023-12-08T04:28:18.311763Z",
     "iopub.status.busy": "2023-12-08T04:28:18.311335Z",
     "iopub.status.idle": "2023-12-08T04:28:18.317486Z",
     "shell.execute_reply": "2023-12-08T04:28:18.316648Z"
    },
    "papermill": {
     "duration": 0.03143,
     "end_time": "2023-12-08T04:28:18.319417",
     "exception": false,
     "start_time": "2023-12-08T04:28:18.287987",
     "status": "completed"
    },
    "tags": []
   },
   "outputs": [
    {
     "data": {
      "text/plain": [
       "(140000,)"
      ]
     },
     "execution_count": 33,
     "metadata": {},
     "output_type": "execute_result"
    }
   ],
   "source": [
    "y1_train.shape"
   ]
  },
  {
   "cell_type": "code",
   "execution_count": 34,
   "id": "e998a945",
   "metadata": {
    "execution": {
     "iopub.execute_input": "2023-12-08T04:28:18.366620Z",
     "iopub.status.busy": "2023-12-08T04:28:18.365807Z",
     "iopub.status.idle": "2023-12-08T04:28:18.372409Z",
     "shell.execute_reply": "2023-12-08T04:28:18.371489Z"
    },
    "papermill": {
     "duration": 0.032386,
     "end_time": "2023-12-08T04:28:18.374509",
     "exception": false,
     "start_time": "2023-12-08T04:28:18.342123",
     "status": "completed"
    },
    "tags": []
   },
   "outputs": [
    {
     "data": {
      "text/plain": [
       "(35000,)"
      ]
     },
     "execution_count": 34,
     "metadata": {},
     "output_type": "execute_result"
    }
   ],
   "source": [
    "y1_test.shape"
   ]
  },
  {
   "cell_type": "code",
   "execution_count": 35,
   "id": "1882a284",
   "metadata": {
    "execution": {
     "iopub.execute_input": "2023-12-08T04:28:18.421943Z",
     "iopub.status.busy": "2023-12-08T04:28:18.420886Z",
     "iopub.status.idle": "2023-12-08T04:28:18.430699Z",
     "shell.execute_reply": "2023-12-08T04:28:18.429583Z"
    },
    "papermill": {
     "duration": 0.035956,
     "end_time": "2023-12-08T04:28:18.432852",
     "exception": false,
     "start_time": "2023-12-08T04:28:18.396896",
     "status": "completed"
    },
    "tags": []
   },
   "outputs": [
    {
     "data": {
      "text/plain": [
       "-3.7584352301278656e-05"
      ]
     },
     "execution_count": 35,
     "metadata": {},
     "output_type": "execute_result"
    }
   ],
   "source": [
    "dummy_mean=DummyRegressor(strategy='mean')\n",
    "dummy_mean.fit(X1_train,y1_train)\n",
    "dummy_mean.score(X1_test,y1_test)"
   ]
  },
  {
   "cell_type": "code",
   "execution_count": 36,
   "id": "6e3e6a51",
   "metadata": {
    "execution": {
     "iopub.execute_input": "2023-12-08T04:28:18.481740Z",
     "iopub.status.busy": "2023-12-08T04:28:18.481329Z",
     "iopub.status.idle": "2023-12-08T04:28:18.491712Z",
     "shell.execute_reply": "2023-12-08T04:28:18.490895Z"
    },
    "papermill": {
     "duration": 0.036043,
     "end_time": "2023-12-08T04:28:18.493831",
     "exception": false,
     "start_time": "2023-12-08T04:28:18.457788",
     "status": "completed"
    },
    "tags": []
   },
   "outputs": [
    {
     "data": {
      "text/plain": [
       "-0.09979753509607359"
      ]
     },
     "execution_count": 36,
     "metadata": {},
     "output_type": "execute_result"
    }
   ],
   "source": [
    "dummy_median=DummyRegressor(strategy='median')\n",
    "dummy_median.fit(X1_train,y1_train)\n",
    "dummy_median.score(X1_test,y1_test)"
   ]
  },
  {
   "cell_type": "code",
   "execution_count": 37,
   "id": "e429d2aa",
   "metadata": {
    "execution": {
     "iopub.execute_input": "2023-12-08T04:28:18.541168Z",
     "iopub.status.busy": "2023-12-08T04:28:18.540539Z",
     "iopub.status.idle": "2023-12-08T04:28:18.545319Z",
     "shell.execute_reply": "2023-12-08T04:28:18.544379Z"
    },
    "papermill": {
     "duration": 0.030281,
     "end_time": "2023-12-08T04:28:18.547217",
     "exception": false,
     "start_time": "2023-12-08T04:28:18.516936",
     "status": "completed"
    },
    "tags": []
   },
   "outputs": [],
   "source": [
    "lr=LinearRegression()"
   ]
  },
  {
   "cell_type": "code",
   "execution_count": 38,
   "id": "ebd5c596",
   "metadata": {
    "execution": {
     "iopub.execute_input": "2023-12-08T04:28:18.593706Z",
     "iopub.status.busy": "2023-12-08T04:28:18.593284Z",
     "iopub.status.idle": "2023-12-08T04:28:18.756460Z",
     "shell.execute_reply": "2023-12-08T04:28:18.755298Z"
    },
    "papermill": {
     "duration": 0.189902,
     "end_time": "2023-12-08T04:28:18.759467",
     "exception": false,
     "start_time": "2023-12-08T04:28:18.569565",
     "status": "completed"
    },
    "tags": []
   },
   "outputs": [
    {
     "data": {
      "text/plain": [
       "0.7167157568480076"
      ]
     },
     "execution_count": 38,
     "metadata": {},
     "output_type": "execute_result"
    }
   ],
   "source": [
    "lr.fit(X1_train,y1_train)\n",
    "lr.score(X1_test,y1_test)"
   ]
  },
  {
   "cell_type": "code",
   "execution_count": 39,
   "id": "f9ce9da3",
   "metadata": {
    "execution": {
     "iopub.execute_input": "2023-12-08T04:28:18.877900Z",
     "iopub.status.busy": "2023-12-08T04:28:18.876732Z",
     "iopub.status.idle": "2023-12-08T04:28:18.881568Z",
     "shell.execute_reply": "2023-12-08T04:28:18.880765Z"
    },
    "papermill": {
     "duration": 0.049627,
     "end_time": "2023-12-08T04:28:18.883630",
     "exception": false,
     "start_time": "2023-12-08T04:28:18.834003",
     "status": "completed"
    },
    "tags": []
   },
   "outputs": [],
   "source": [
    "# poly = PolynomialFeatures(degree=2, interaction_only=False, order='C')\n",
    "# X_poly_train = poly.fit_transform(X1_train)\n",
    "# lin2 = LinearRegression()\n",
    "# lin2.fit(X_poly_train, y1_train)\n",
    "# X_poly_test = poly.fit_transform(X1_test)\n",
    "# y1_pred = lin2.predict(X_poly_test)\n",
    "# r2_score(y1_test, y1_pred)\n"
   ]
  },
  {
   "cell_type": "code",
   "execution_count": 40,
   "id": "a919cf43",
   "metadata": {
    "execution": {
     "iopub.execute_input": "2023-12-08T04:28:18.931490Z",
     "iopub.status.busy": "2023-12-08T04:28:18.930716Z",
     "iopub.status.idle": "2023-12-08T04:28:18.935822Z",
     "shell.execute_reply": "2023-12-08T04:28:18.935065Z"
    },
    "papermill": {
     "duration": 0.031796,
     "end_time": "2023-12-08T04:28:18.937904",
     "exception": false,
     "start_time": "2023-12-08T04:28:18.906108",
     "status": "completed"
    },
    "tags": []
   },
   "outputs": [],
   "source": [
    "pipe=Pipeline([('scaler',StandardScaler()),('sgd',SGDRegressor(random_state=42))])"
   ]
  },
  {
   "cell_type": "code",
   "execution_count": 41,
   "id": "174dd646",
   "metadata": {
    "execution": {
     "iopub.execute_input": "2023-12-08T04:28:18.984595Z",
     "iopub.status.busy": "2023-12-08T04:28:18.983847Z",
     "iopub.status.idle": "2023-12-08T04:28:19.291498Z",
     "shell.execute_reply": "2023-12-08T04:28:19.290202Z"
    },
    "papermill": {
     "duration": 0.335104,
     "end_time": "2023-12-08T04:28:19.295327",
     "exception": false,
     "start_time": "2023-12-08T04:28:18.960223",
     "status": "completed"
    },
    "tags": []
   },
   "outputs": [
    {
     "data": {
      "text/plain": [
       "-694756533961005.6"
      ]
     },
     "execution_count": 41,
     "metadata": {},
     "output_type": "execute_result"
    }
   ],
   "source": [
    "pipe.fit(X1_train,y1_train)\n",
    "pipe.score(X1_test,y1_test)"
   ]
  },
  {
   "cell_type": "code",
   "execution_count": 42,
   "id": "28fa3aa4",
   "metadata": {
    "execution": {
     "iopub.execute_input": "2023-12-08T04:28:19.374435Z",
     "iopub.status.busy": "2023-12-08T04:28:19.373683Z",
     "iopub.status.idle": "2023-12-08T04:28:19.379294Z",
     "shell.execute_reply": "2023-12-08T04:28:19.377998Z"
    },
    "papermill": {
     "duration": 0.050135,
     "end_time": "2023-12-08T04:28:19.384144",
     "exception": false,
     "start_time": "2023-12-08T04:28:19.334009",
     "status": "completed"
    },
    "tags": []
   },
   "outputs": [],
   "source": [
    "# sgd_params={'alpha':[0.0001,0.01,1],'penalty':['l1','l2'],'loss':['squared_loss','huber'],'learning_rate':['constant','optimal'],'eta0':[0.0001,0.01,1],'n_iter_no_change':[5,10],'random_state':[42]}\n",
    "\n",
    "# sgdcv= GridSearchCV(sgd,sgd_params,cv=5)\n",
    "# sgdcv.fit(X_train_norm,y1_train)\n",
    "# sgdcv.predict(X_test_norm)\n",
    "# sgdcv.score(X_test_norm,y1_test)"
   ]
  },
  {
   "cell_type": "code",
   "execution_count": 43,
   "id": "048e7de0",
   "metadata": {
    "execution": {
     "iopub.execute_input": "2023-12-08T04:28:19.439847Z",
     "iopub.status.busy": "2023-12-08T04:28:19.439288Z",
     "iopub.status.idle": "2023-12-08T04:28:19.444665Z",
     "shell.execute_reply": "2023-12-08T04:28:19.443542Z"
    },
    "papermill": {
     "duration": 0.032447,
     "end_time": "2023-12-08T04:28:19.447008",
     "exception": false,
     "start_time": "2023-12-08T04:28:19.414561",
     "status": "completed"
    },
    "tags": []
   },
   "outputs": [],
   "source": [
    "# pipe2=Pipeline([('scaler',StandardScaler()),('svr',SVR())])\n",
    "# pipe2.fit(X1_train,y1_train)\n",
    "# pipe2.score(X1_test,y1_test)"
   ]
  },
  {
   "cell_type": "code",
   "execution_count": 44,
   "id": "0c1aa318",
   "metadata": {
    "execution": {
     "iopub.execute_input": "2023-12-08T04:28:19.493942Z",
     "iopub.status.busy": "2023-12-08T04:28:19.493303Z",
     "iopub.status.idle": "2023-12-08T04:28:19.498048Z",
     "shell.execute_reply": "2023-12-08T04:28:19.496925Z"
    },
    "papermill": {
     "duration": 0.030514,
     "end_time": "2023-12-08T04:28:19.500114",
     "exception": false,
     "start_time": "2023-12-08T04:28:19.469600",
     "status": "completed"
    },
    "tags": []
   },
   "outputs": [],
   "source": [
    "# knr=KNeighborsRegressor()\n",
    "# knr.fit(X1_train,y1_train)\n",
    "# knr.score(X1_test,y1_test)"
   ]
  },
  {
   "cell_type": "code",
   "execution_count": 45,
   "id": "3c1f82b4",
   "metadata": {
    "execution": {
     "iopub.execute_input": "2023-12-08T04:28:19.547965Z",
     "iopub.status.busy": "2023-12-08T04:28:19.546874Z",
     "iopub.status.idle": "2023-12-08T04:28:21.471228Z",
     "shell.execute_reply": "2023-12-08T04:28:21.470143Z"
    },
    "papermill": {
     "duration": 1.950815,
     "end_time": "2023-12-08T04:28:21.473545",
     "exception": false,
     "start_time": "2023-12-08T04:28:19.522730",
     "status": "completed"
    },
    "tags": []
   },
   "outputs": [
    {
     "data": {
      "text/plain": [
       "0.894579685405656"
      ]
     },
     "execution_count": 45,
     "metadata": {},
     "output_type": "execute_result"
    }
   ],
   "source": [
    "dt=DecisionTreeRegressor(random_state=42)\n",
    "dt.fit(X1_train,y1_train)\n",
    "dt.score(X1_test,y1_test)"
   ]
  },
  {
   "cell_type": "code",
   "execution_count": 46,
   "id": "12ff8483",
   "metadata": {
    "execution": {
     "iopub.execute_input": "2023-12-08T04:28:21.520400Z",
     "iopub.status.busy": "2023-12-08T04:28:21.519978Z",
     "iopub.status.idle": "2023-12-08T04:30:29.044885Z",
     "shell.execute_reply": "2023-12-08T04:30:29.043653Z"
    },
    "papermill": {
     "duration": 127.575553,
     "end_time": "2023-12-08T04:30:29.071453",
     "exception": false,
     "start_time": "2023-12-08T04:28:21.495900",
     "status": "completed"
    },
    "tags": []
   },
   "outputs": [
    {
     "data": {
      "text/plain": [
       "0.9556743132157149"
      ]
     },
     "execution_count": 46,
     "metadata": {},
     "output_type": "execute_result"
    }
   ],
   "source": [
    "rf=RandomForestRegressor(random_state=42)\n",
    "rf.fit(X1_train,y1_train)\n",
    "rf.score(X1_test,y1_test)"
   ]
  },
  {
   "cell_type": "code",
   "execution_count": 47,
   "id": "9c6b4448",
   "metadata": {
    "execution": {
     "iopub.execute_input": "2023-12-08T04:30:29.118193Z",
     "iopub.status.busy": "2023-12-08T04:30:29.117494Z",
     "iopub.status.idle": "2023-12-08T04:30:29.121925Z",
     "shell.execute_reply": "2023-12-08T04:30:29.120808Z"
    },
    "papermill": {
     "duration": 0.030145,
     "end_time": "2023-12-08T04:30:29.123904",
     "exception": false,
     "start_time": "2023-12-08T04:30:29.093759",
     "status": "completed"
    },
    "tags": []
   },
   "outputs": [],
   "source": [
    "# rf.fit(X1,y1)\n",
    "# output=rf.predict(test)"
   ]
  },
  {
   "cell_type": "code",
   "execution_count": 48,
   "id": "ad15c4b8",
   "metadata": {
    "execution": {
     "iopub.execute_input": "2023-12-08T04:30:29.170993Z",
     "iopub.status.busy": "2023-12-08T04:30:29.170224Z",
     "iopub.status.idle": "2023-12-08T04:30:29.173968Z",
     "shell.execute_reply": "2023-12-08T04:30:29.173265Z"
    },
    "papermill": {
     "duration": 0.029502,
     "end_time": "2023-12-08T04:30:29.175892",
     "exception": false,
     "start_time": "2023-12-08T04:30:29.146390",
     "status": "completed"
    },
    "tags": []
   },
   "outputs": [],
   "source": [
    "# rf1=RandomForestRegressor(random_state=42)\n",
    "# rf1.fit(X1,y1)"
   ]
  },
  {
   "cell_type": "code",
   "execution_count": 49,
   "id": "6a50f3a5",
   "metadata": {
    "execution": {
     "iopub.execute_input": "2023-12-08T04:30:29.222628Z",
     "iopub.status.busy": "2023-12-08T04:30:29.222199Z",
     "iopub.status.idle": "2023-12-08T05:52:51.772665Z",
     "shell.execute_reply": "2023-12-08T05:52:51.771441Z"
    },
    "papermill": {
     "duration": 4942.612828,
     "end_time": "2023-12-08T05:52:51.811402",
     "exception": false,
     "start_time": "2023-12-08T04:30:29.198574",
     "status": "completed"
    },
    "tags": []
   },
   "outputs": [
    {
     "name": "stdout",
     "output_type": "stream",
     "text": [
      "Fitting 4 folds for each of 54 candidates, totalling 216 fits\n",
      "[CV] END max_depth=1, min_samples_leaf=1, min_samples_split=2, n_estimators=10; total time=   0.5s\n",
      "[CV] END max_depth=1, min_samples_leaf=1, min_samples_split=2, n_estimators=10; total time=   0.5s\n",
      "[CV] END max_depth=1, min_samples_leaf=1, min_samples_split=2, n_estimators=10; total time=   0.5s\n",
      "[CV] END max_depth=1, min_samples_leaf=1, min_samples_split=2, n_estimators=10; total time=   0.5s\n",
      "[CV] END max_depth=1, min_samples_leaf=1, min_samples_split=2, n_estimators=100; total time=   4.7s\n",
      "[CV] END max_depth=1, min_samples_leaf=1, min_samples_split=2, n_estimators=100; total time=   4.8s\n",
      "[CV] END max_depth=1, min_samples_leaf=1, min_samples_split=2, n_estimators=100; total time=   4.7s\n",
      "[CV] END max_depth=1, min_samples_leaf=1, min_samples_split=2, n_estimators=100; total time=   4.7s\n",
      "[CV] END max_depth=1, min_samples_leaf=1, min_samples_split=6, n_estimators=10; total time=   0.5s\n",
      "[CV] END max_depth=1, min_samples_leaf=1, min_samples_split=6, n_estimators=10; total time=   0.5s\n",
      "[CV] END max_depth=1, min_samples_leaf=1, min_samples_split=6, n_estimators=10; total time=   0.5s\n",
      "[CV] END max_depth=1, min_samples_leaf=1, min_samples_split=6, n_estimators=10; total time=   0.5s\n",
      "[CV] END max_depth=1, min_samples_leaf=1, min_samples_split=6, n_estimators=100; total time=   4.7s\n",
      "[CV] END max_depth=1, min_samples_leaf=1, min_samples_split=6, n_estimators=100; total time=   4.7s\n",
      "[CV] END max_depth=1, min_samples_leaf=1, min_samples_split=6, n_estimators=100; total time=   4.7s\n",
      "[CV] END max_depth=1, min_samples_leaf=1, min_samples_split=6, n_estimators=100; total time=   4.7s\n",
      "[CV] END max_depth=1, min_samples_leaf=1, min_samples_split=10, n_estimators=10; total time=   0.5s\n",
      "[CV] END max_depth=1, min_samples_leaf=1, min_samples_split=10, n_estimators=10; total time=   0.5s\n",
      "[CV] END max_depth=1, min_samples_leaf=1, min_samples_split=10, n_estimators=10; total time=   0.5s\n",
      "[CV] END max_depth=1, min_samples_leaf=1, min_samples_split=10, n_estimators=10; total time=   0.5s\n",
      "[CV] END max_depth=1, min_samples_leaf=1, min_samples_split=10, n_estimators=100; total time=   4.7s\n",
      "[CV] END max_depth=1, min_samples_leaf=1, min_samples_split=10, n_estimators=100; total time=   4.6s\n",
      "[CV] END max_depth=1, min_samples_leaf=1, min_samples_split=10, n_estimators=100; total time=   4.6s\n",
      "[CV] END max_depth=1, min_samples_leaf=1, min_samples_split=10, n_estimators=100; total time=   4.6s\n",
      "[CV] END max_depth=1, min_samples_leaf=5, min_samples_split=2, n_estimators=10; total time=   0.5s\n",
      "[CV] END max_depth=1, min_samples_leaf=5, min_samples_split=2, n_estimators=10; total time=   0.5s\n",
      "[CV] END max_depth=1, min_samples_leaf=5, min_samples_split=2, n_estimators=10; total time=   0.5s\n",
      "[CV] END max_depth=1, min_samples_leaf=5, min_samples_split=2, n_estimators=10; total time=   0.5s\n",
      "[CV] END max_depth=1, min_samples_leaf=5, min_samples_split=2, n_estimators=100; total time=   4.6s\n",
      "[CV] END max_depth=1, min_samples_leaf=5, min_samples_split=2, n_estimators=100; total time=   4.7s\n",
      "[CV] END max_depth=1, min_samples_leaf=5, min_samples_split=2, n_estimators=100; total time=   4.6s\n",
      "[CV] END max_depth=1, min_samples_leaf=5, min_samples_split=2, n_estimators=100; total time=   4.7s\n",
      "[CV] END max_depth=1, min_samples_leaf=5, min_samples_split=6, n_estimators=10; total time=   0.5s\n",
      "[CV] END max_depth=1, min_samples_leaf=5, min_samples_split=6, n_estimators=10; total time=   0.5s\n",
      "[CV] END max_depth=1, min_samples_leaf=5, min_samples_split=6, n_estimators=10; total time=   0.5s\n",
      "[CV] END max_depth=1, min_samples_leaf=5, min_samples_split=6, n_estimators=10; total time=   0.5s\n",
      "[CV] END max_depth=1, min_samples_leaf=5, min_samples_split=6, n_estimators=100; total time=   4.7s\n",
      "[CV] END max_depth=1, min_samples_leaf=5, min_samples_split=6, n_estimators=100; total time=   4.6s\n",
      "[CV] END max_depth=1, min_samples_leaf=5, min_samples_split=6, n_estimators=100; total time=   4.7s\n",
      "[CV] END max_depth=1, min_samples_leaf=5, min_samples_split=6, n_estimators=100; total time=   4.7s\n",
      "[CV] END max_depth=1, min_samples_leaf=5, min_samples_split=10, n_estimators=10; total time=   0.5s\n",
      "[CV] END max_depth=1, min_samples_leaf=5, min_samples_split=10, n_estimators=10; total time=   0.5s\n",
      "[CV] END max_depth=1, min_samples_leaf=5, min_samples_split=10, n_estimators=10; total time=   0.5s\n",
      "[CV] END max_depth=1, min_samples_leaf=5, min_samples_split=10, n_estimators=10; total time=   0.5s\n",
      "[CV] END max_depth=1, min_samples_leaf=5, min_samples_split=10, n_estimators=100; total time=   4.7s\n",
      "[CV] END max_depth=1, min_samples_leaf=5, min_samples_split=10, n_estimators=100; total time=   4.7s\n",
      "[CV] END max_depth=1, min_samples_leaf=5, min_samples_split=10, n_estimators=100; total time=   4.7s\n",
      "[CV] END max_depth=1, min_samples_leaf=5, min_samples_split=10, n_estimators=100; total time=   4.7s\n",
      "[CV] END max_depth=1, min_samples_leaf=10, min_samples_split=2, n_estimators=10; total time=   0.5s\n",
      "[CV] END max_depth=1, min_samples_leaf=10, min_samples_split=2, n_estimators=10; total time=   0.5s\n",
      "[CV] END max_depth=1, min_samples_leaf=10, min_samples_split=2, n_estimators=10; total time=   0.5s\n",
      "[CV] END max_depth=1, min_samples_leaf=10, min_samples_split=2, n_estimators=10; total time=   0.5s\n",
      "[CV] END max_depth=1, min_samples_leaf=10, min_samples_split=2, n_estimators=100; total time=   4.7s\n",
      "[CV] END max_depth=1, min_samples_leaf=10, min_samples_split=2, n_estimators=100; total time=   4.6s\n",
      "[CV] END max_depth=1, min_samples_leaf=10, min_samples_split=2, n_estimators=100; total time=   4.7s\n",
      "[CV] END max_depth=1, min_samples_leaf=10, min_samples_split=2, n_estimators=100; total time=   4.6s\n",
      "[CV] END max_depth=1, min_samples_leaf=10, min_samples_split=6, n_estimators=10; total time=   0.5s\n",
      "[CV] END max_depth=1, min_samples_leaf=10, min_samples_split=6, n_estimators=10; total time=   0.5s\n",
      "[CV] END max_depth=1, min_samples_leaf=10, min_samples_split=6, n_estimators=10; total time=   0.5s\n",
      "[CV] END max_depth=1, min_samples_leaf=10, min_samples_split=6, n_estimators=10; total time=   0.5s\n",
      "[CV] END max_depth=1, min_samples_leaf=10, min_samples_split=6, n_estimators=100; total time=   4.6s\n",
      "[CV] END max_depth=1, min_samples_leaf=10, min_samples_split=6, n_estimators=100; total time=   4.7s\n",
      "[CV] END max_depth=1, min_samples_leaf=10, min_samples_split=6, n_estimators=100; total time=   4.7s\n",
      "[CV] END max_depth=1, min_samples_leaf=10, min_samples_split=6, n_estimators=100; total time=   4.7s\n",
      "[CV] END max_depth=1, min_samples_leaf=10, min_samples_split=10, n_estimators=10; total time=   0.5s\n",
      "[CV] END max_depth=1, min_samples_leaf=10, min_samples_split=10, n_estimators=10; total time=   0.5s\n",
      "[CV] END max_depth=1, min_samples_leaf=10, min_samples_split=10, n_estimators=10; total time=   0.5s\n",
      "[CV] END max_depth=1, min_samples_leaf=10, min_samples_split=10, n_estimators=10; total time=   0.5s\n",
      "[CV] END max_depth=1, min_samples_leaf=10, min_samples_split=10, n_estimators=100; total time=   4.6s\n",
      "[CV] END max_depth=1, min_samples_leaf=10, min_samples_split=10, n_estimators=100; total time=   4.6s\n",
      "[CV] END max_depth=1, min_samples_leaf=10, min_samples_split=10, n_estimators=100; total time=   4.6s\n",
      "[CV] END max_depth=1, min_samples_leaf=10, min_samples_split=10, n_estimators=100; total time=   4.6s\n",
      "[CV] END max_depth=10, min_samples_leaf=1, min_samples_split=2, n_estimators=10; total time=   4.2s\n",
      "[CV] END max_depth=10, min_samples_leaf=1, min_samples_split=2, n_estimators=10; total time=   4.2s\n",
      "[CV] END max_depth=10, min_samples_leaf=1, min_samples_split=2, n_estimators=10; total time=   4.2s\n",
      "[CV] END max_depth=10, min_samples_leaf=1, min_samples_split=2, n_estimators=10; total time=   4.3s\n",
      "[CV] END max_depth=10, min_samples_leaf=1, min_samples_split=2, n_estimators=100; total time=  42.3s\n",
      "[CV] END max_depth=10, min_samples_leaf=1, min_samples_split=2, n_estimators=100; total time=  42.1s\n",
      "[CV] END max_depth=10, min_samples_leaf=1, min_samples_split=2, n_estimators=100; total time=  42.3s\n",
      "[CV] END max_depth=10, min_samples_leaf=1, min_samples_split=2, n_estimators=100; total time=  42.3s\n",
      "[CV] END max_depth=10, min_samples_leaf=1, min_samples_split=6, n_estimators=10; total time=   4.2s\n",
      "[CV] END max_depth=10, min_samples_leaf=1, min_samples_split=6, n_estimators=10; total time=   4.2s\n",
      "[CV] END max_depth=10, min_samples_leaf=1, min_samples_split=6, n_estimators=10; total time=   4.2s\n",
      "[CV] END max_depth=10, min_samples_leaf=1, min_samples_split=6, n_estimators=10; total time=   4.2s\n",
      "[CV] END max_depth=10, min_samples_leaf=1, min_samples_split=6, n_estimators=100; total time=  42.1s\n",
      "[CV] END max_depth=10, min_samples_leaf=1, min_samples_split=6, n_estimators=100; total time=  42.0s\n",
      "[CV] END max_depth=10, min_samples_leaf=1, min_samples_split=6, n_estimators=100; total time=  42.0s\n",
      "[CV] END max_depth=10, min_samples_leaf=1, min_samples_split=6, n_estimators=100; total time=  42.4s\n",
      "[CV] END max_depth=10, min_samples_leaf=1, min_samples_split=10, n_estimators=10; total time=   4.3s\n",
      "[CV] END max_depth=10, min_samples_leaf=1, min_samples_split=10, n_estimators=10; total time=   4.4s\n",
      "[CV] END max_depth=10, min_samples_leaf=1, min_samples_split=10, n_estimators=10; total time=   4.3s\n",
      "[CV] END max_depth=10, min_samples_leaf=1, min_samples_split=10, n_estimators=10; total time=   4.4s\n",
      "[CV] END max_depth=10, min_samples_leaf=1, min_samples_split=10, n_estimators=100; total time=  42.8s\n",
      "[CV] END max_depth=10, min_samples_leaf=1, min_samples_split=10, n_estimators=100; total time=  41.7s\n",
      "[CV] END max_depth=10, min_samples_leaf=1, min_samples_split=10, n_estimators=100; total time=  42.0s\n",
      "[CV] END max_depth=10, min_samples_leaf=1, min_samples_split=10, n_estimators=100; total time=  42.2s\n",
      "[CV] END max_depth=10, min_samples_leaf=5, min_samples_split=2, n_estimators=10; total time=   4.3s\n",
      "[CV] END max_depth=10, min_samples_leaf=5, min_samples_split=2, n_estimators=10; total time=   4.2s\n",
      "[CV] END max_depth=10, min_samples_leaf=5, min_samples_split=2, n_estimators=10; total time=   4.2s\n",
      "[CV] END max_depth=10, min_samples_leaf=5, min_samples_split=2, n_estimators=10; total time=   4.2s\n",
      "[CV] END max_depth=10, min_samples_leaf=5, min_samples_split=2, n_estimators=100; total time=  42.0s\n",
      "[CV] END max_depth=10, min_samples_leaf=5, min_samples_split=2, n_estimators=100; total time=  42.1s\n",
      "[CV] END max_depth=10, min_samples_leaf=5, min_samples_split=2, n_estimators=100; total time=  42.0s\n",
      "[CV] END max_depth=10, min_samples_leaf=5, min_samples_split=2, n_estimators=100; total time=  42.1s\n",
      "[CV] END max_depth=10, min_samples_leaf=5, min_samples_split=6, n_estimators=10; total time=   4.3s\n",
      "[CV] END max_depth=10, min_samples_leaf=5, min_samples_split=6, n_estimators=10; total time=   4.3s\n",
      "[CV] END max_depth=10, min_samples_leaf=5, min_samples_split=6, n_estimators=10; total time=   4.3s\n",
      "[CV] END max_depth=10, min_samples_leaf=5, min_samples_split=6, n_estimators=10; total time=   4.4s\n",
      "[CV] END max_depth=10, min_samples_leaf=5, min_samples_split=6, n_estimators=100; total time=  42.3s\n",
      "[CV] END max_depth=10, min_samples_leaf=5, min_samples_split=6, n_estimators=100; total time=  41.9s\n",
      "[CV] END max_depth=10, min_samples_leaf=5, min_samples_split=6, n_estimators=100; total time=  42.0s\n",
      "[CV] END max_depth=10, min_samples_leaf=5, min_samples_split=6, n_estimators=100; total time=  42.1s\n",
      "[CV] END max_depth=10, min_samples_leaf=5, min_samples_split=10, n_estimators=10; total time=   4.3s\n",
      "[CV] END max_depth=10, min_samples_leaf=5, min_samples_split=10, n_estimators=10; total time=   4.2s\n",
      "[CV] END max_depth=10, min_samples_leaf=5, min_samples_split=10, n_estimators=10; total time=   4.2s\n",
      "[CV] END max_depth=10, min_samples_leaf=5, min_samples_split=10, n_estimators=10; total time=   4.2s\n",
      "[CV] END max_depth=10, min_samples_leaf=5, min_samples_split=10, n_estimators=100; total time=  41.8s\n",
      "[CV] END max_depth=10, min_samples_leaf=5, min_samples_split=10, n_estimators=100; total time=  42.7s\n",
      "[CV] END max_depth=10, min_samples_leaf=5, min_samples_split=10, n_estimators=100; total time=  42.4s\n",
      "[CV] END max_depth=10, min_samples_leaf=5, min_samples_split=10, n_estimators=100; total time=  42.0s\n",
      "[CV] END max_depth=10, min_samples_leaf=10, min_samples_split=2, n_estimators=10; total time=   4.2s\n",
      "[CV] END max_depth=10, min_samples_leaf=10, min_samples_split=2, n_estimators=10; total time=   4.3s\n",
      "[CV] END max_depth=10, min_samples_leaf=10, min_samples_split=2, n_estimators=10; total time=   4.3s\n",
      "[CV] END max_depth=10, min_samples_leaf=10, min_samples_split=2, n_estimators=10; total time=   4.3s\n",
      "[CV] END max_depth=10, min_samples_leaf=10, min_samples_split=2, n_estimators=100; total time=  41.7s\n",
      "[CV] END max_depth=10, min_samples_leaf=10, min_samples_split=2, n_estimators=100; total time=  41.7s\n",
      "[CV] END max_depth=10, min_samples_leaf=10, min_samples_split=2, n_estimators=100; total time=  42.1s\n",
      "[CV] END max_depth=10, min_samples_leaf=10, min_samples_split=2, n_estimators=100; total time=  41.6s\n",
      "[CV] END max_depth=10, min_samples_leaf=10, min_samples_split=6, n_estimators=10; total time=   4.2s\n",
      "[CV] END max_depth=10, min_samples_leaf=10, min_samples_split=6, n_estimators=10; total time=   4.2s\n",
      "[CV] END max_depth=10, min_samples_leaf=10, min_samples_split=6, n_estimators=10; total time=   4.3s\n",
      "[CV] END max_depth=10, min_samples_leaf=10, min_samples_split=6, n_estimators=10; total time=   4.2s\n",
      "[CV] END max_depth=10, min_samples_leaf=10, min_samples_split=6, n_estimators=100; total time=  41.9s\n",
      "[CV] END max_depth=10, min_samples_leaf=10, min_samples_split=6, n_estimators=100; total time=  42.0s\n",
      "[CV] END max_depth=10, min_samples_leaf=10, min_samples_split=6, n_estimators=100; total time=  42.1s\n",
      "[CV] END max_depth=10, min_samples_leaf=10, min_samples_split=6, n_estimators=100; total time=  42.1s\n",
      "[CV] END max_depth=10, min_samples_leaf=10, min_samples_split=10, n_estimators=10; total time=   4.3s\n",
      "[CV] END max_depth=10, min_samples_leaf=10, min_samples_split=10, n_estimators=10; total time=   4.3s\n",
      "[CV] END max_depth=10, min_samples_leaf=10, min_samples_split=10, n_estimators=10; total time=   4.2s\n",
      "[CV] END max_depth=10, min_samples_leaf=10, min_samples_split=10, n_estimators=10; total time=   4.3s\n",
      "[CV] END max_depth=10, min_samples_leaf=10, min_samples_split=10, n_estimators=100; total time=  41.9s\n",
      "[CV] END max_depth=10, min_samples_leaf=10, min_samples_split=10, n_estimators=100; total time=  42.1s\n",
      "[CV] END max_depth=10, min_samples_leaf=10, min_samples_split=10, n_estimators=100; total time=  42.0s\n",
      "[CV] END max_depth=10, min_samples_leaf=10, min_samples_split=10, n_estimators=100; total time=  42.1s\n",
      "[CV] END max_depth=100, min_samples_leaf=1, min_samples_split=2, n_estimators=10; total time=   9.2s\n",
      "[CV] END max_depth=100, min_samples_leaf=1, min_samples_split=2, n_estimators=10; total time=   9.2s\n",
      "[CV] END max_depth=100, min_samples_leaf=1, min_samples_split=2, n_estimators=10; total time=   9.3s\n",
      "[CV] END max_depth=100, min_samples_leaf=1, min_samples_split=2, n_estimators=10; total time=   9.2s\n",
      "[CV] END max_depth=100, min_samples_leaf=1, min_samples_split=2, n_estimators=100; total time= 1.5min\n",
      "[CV] END max_depth=100, min_samples_leaf=1, min_samples_split=2, n_estimators=100; total time= 1.5min\n",
      "[CV] END max_depth=100, min_samples_leaf=1, min_samples_split=2, n_estimators=100; total time= 1.5min\n",
      "[CV] END max_depth=100, min_samples_leaf=1, min_samples_split=2, n_estimators=100; total time= 1.5min\n",
      "[CV] END max_depth=100, min_samples_leaf=1, min_samples_split=6, n_estimators=10; total time=   8.3s\n",
      "[CV] END max_depth=100, min_samples_leaf=1, min_samples_split=6, n_estimators=10; total time=   8.3s\n",
      "[CV] END max_depth=100, min_samples_leaf=1, min_samples_split=6, n_estimators=10; total time=   8.4s\n",
      "[CV] END max_depth=100, min_samples_leaf=1, min_samples_split=6, n_estimators=10; total time=   8.3s\n",
      "[CV] END max_depth=100, min_samples_leaf=1, min_samples_split=6, n_estimators=100; total time= 1.4min\n",
      "[CV] END max_depth=100, min_samples_leaf=1, min_samples_split=6, n_estimators=100; total time= 1.4min\n",
      "[CV] END max_depth=100, min_samples_leaf=1, min_samples_split=6, n_estimators=100; total time= 1.4min\n",
      "[CV] END max_depth=100, min_samples_leaf=1, min_samples_split=6, n_estimators=100; total time= 1.4min\n",
      "[CV] END max_depth=100, min_samples_leaf=1, min_samples_split=10, n_estimators=10; total time=   8.0s\n",
      "[CV] END max_depth=100, min_samples_leaf=1, min_samples_split=10, n_estimators=10; total time=   8.2s\n",
      "[CV] END max_depth=100, min_samples_leaf=1, min_samples_split=10, n_estimators=10; total time=   8.0s\n",
      "[CV] END max_depth=100, min_samples_leaf=1, min_samples_split=10, n_estimators=10; total time=   7.9s\n",
      "[CV] END max_depth=100, min_samples_leaf=1, min_samples_split=10, n_estimators=100; total time= 1.3min\n",
      "[CV] END max_depth=100, min_samples_leaf=1, min_samples_split=10, n_estimators=100; total time= 1.3min\n",
      "[CV] END max_depth=100, min_samples_leaf=1, min_samples_split=10, n_estimators=100; total time= 1.3min\n",
      "[CV] END max_depth=100, min_samples_leaf=1, min_samples_split=10, n_estimators=100; total time= 1.3min\n",
      "[CV] END max_depth=100, min_samples_leaf=5, min_samples_split=2, n_estimators=10; total time=   7.3s\n",
      "[CV] END max_depth=100, min_samples_leaf=5, min_samples_split=2, n_estimators=10; total time=   7.3s\n",
      "[CV] END max_depth=100, min_samples_leaf=5, min_samples_split=2, n_estimators=10; total time=   7.4s\n",
      "[CV] END max_depth=100, min_samples_leaf=5, min_samples_split=2, n_estimators=10; total time=   7.2s\n",
      "[CV] END max_depth=100, min_samples_leaf=5, min_samples_split=2, n_estimators=100; total time= 1.2min\n",
      "[CV] END max_depth=100, min_samples_leaf=5, min_samples_split=2, n_estimators=100; total time= 1.2min\n",
      "[CV] END max_depth=100, min_samples_leaf=5, min_samples_split=2, n_estimators=100; total time= 1.2min\n",
      "[CV] END max_depth=100, min_samples_leaf=5, min_samples_split=2, n_estimators=100; total time= 1.2min\n",
      "[CV] END max_depth=100, min_samples_leaf=5, min_samples_split=6, n_estimators=10; total time=   7.4s\n",
      "[CV] END max_depth=100, min_samples_leaf=5, min_samples_split=6, n_estimators=10; total time=   7.3s\n",
      "[CV] END max_depth=100, min_samples_leaf=5, min_samples_split=6, n_estimators=10; total time=   7.4s\n",
      "[CV] END max_depth=100, min_samples_leaf=5, min_samples_split=6, n_estimators=10; total time=   7.3s\n",
      "[CV] END max_depth=100, min_samples_leaf=5, min_samples_split=6, n_estimators=100; total time= 1.2min\n",
      "[CV] END max_depth=100, min_samples_leaf=5, min_samples_split=6, n_estimators=100; total time= 1.2min\n",
      "[CV] END max_depth=100, min_samples_leaf=5, min_samples_split=6, n_estimators=100; total time= 1.2min\n",
      "[CV] END max_depth=100, min_samples_leaf=5, min_samples_split=6, n_estimators=100; total time= 1.2min\n",
      "[CV] END max_depth=100, min_samples_leaf=5, min_samples_split=10, n_estimators=10; total time=   7.4s\n",
      "[CV] END max_depth=100, min_samples_leaf=5, min_samples_split=10, n_estimators=10; total time=   7.3s\n",
      "[CV] END max_depth=100, min_samples_leaf=5, min_samples_split=10, n_estimators=10; total time=   7.3s\n",
      "[CV] END max_depth=100, min_samples_leaf=5, min_samples_split=10, n_estimators=10; total time=   7.3s\n",
      "[CV] END max_depth=100, min_samples_leaf=5, min_samples_split=10, n_estimators=100; total time= 1.2min\n",
      "[CV] END max_depth=100, min_samples_leaf=5, min_samples_split=10, n_estimators=100; total time= 1.2min\n",
      "[CV] END max_depth=100, min_samples_leaf=5, min_samples_split=10, n_estimators=100; total time= 1.2min\n",
      "[CV] END max_depth=100, min_samples_leaf=5, min_samples_split=10, n_estimators=100; total time= 1.2min\n",
      "[CV] END max_depth=100, min_samples_leaf=10, min_samples_split=2, n_estimators=10; total time=   6.8s\n",
      "[CV] END max_depth=100, min_samples_leaf=10, min_samples_split=2, n_estimators=10; total time=   6.8s\n",
      "[CV] END max_depth=100, min_samples_leaf=10, min_samples_split=2, n_estimators=10; total time=   6.8s\n",
      "[CV] END max_depth=100, min_samples_leaf=10, min_samples_split=2, n_estimators=10; total time=   6.8s\n",
      "[CV] END max_depth=100, min_samples_leaf=10, min_samples_split=2, n_estimators=100; total time= 1.1min\n",
      "[CV] END max_depth=100, min_samples_leaf=10, min_samples_split=2, n_estimators=100; total time= 1.1min\n",
      "[CV] END max_depth=100, min_samples_leaf=10, min_samples_split=2, n_estimators=100; total time= 1.1min\n",
      "[CV] END max_depth=100, min_samples_leaf=10, min_samples_split=2, n_estimators=100; total time= 1.1min\n",
      "[CV] END max_depth=100, min_samples_leaf=10, min_samples_split=6, n_estimators=10; total time=   6.6s\n",
      "[CV] END max_depth=100, min_samples_leaf=10, min_samples_split=6, n_estimators=10; total time=   6.7s\n",
      "[CV] END max_depth=100, min_samples_leaf=10, min_samples_split=6, n_estimators=10; total time=   6.7s\n",
      "[CV] END max_depth=100, min_samples_leaf=10, min_samples_split=6, n_estimators=10; total time=   6.6s\n",
      "[CV] END max_depth=100, min_samples_leaf=10, min_samples_split=6, n_estimators=100; total time= 1.1min\n",
      "[CV] END max_depth=100, min_samples_leaf=10, min_samples_split=6, n_estimators=100; total time= 1.1min\n",
      "[CV] END max_depth=100, min_samples_leaf=10, min_samples_split=6, n_estimators=100; total time= 1.1min\n",
      "[CV] END max_depth=100, min_samples_leaf=10, min_samples_split=6, n_estimators=100; total time= 1.1min\n",
      "[CV] END max_depth=100, min_samples_leaf=10, min_samples_split=10, n_estimators=10; total time=   6.7s\n",
      "[CV] END max_depth=100, min_samples_leaf=10, min_samples_split=10, n_estimators=10; total time=   6.7s\n",
      "[CV] END max_depth=100, min_samples_leaf=10, min_samples_split=10, n_estimators=10; total time=   6.8s\n",
      "[CV] END max_depth=100, min_samples_leaf=10, min_samples_split=10, n_estimators=10; total time=   6.8s\n",
      "[CV] END max_depth=100, min_samples_leaf=10, min_samples_split=10, n_estimators=100; total time= 1.1min\n",
      "[CV] END max_depth=100, min_samples_leaf=10, min_samples_split=10, n_estimators=100; total time= 1.1min\n",
      "[CV] END max_depth=100, min_samples_leaf=10, min_samples_split=10, n_estimators=100; total time= 1.1min\n",
      "[CV] END max_depth=100, min_samples_leaf=10, min_samples_split=10, n_estimators=100; total time= 1.1min\n"
     ]
    },
    {
     "data": {
      "text/plain": [
       "0.9570854340513932"
      ]
     },
     "execution_count": 49,
     "metadata": {},
     "output_type": "execute_result"
    }
   ],
   "source": [
    "rf_params=rf_params={'n_estimators':[10,100],'max_depth':[1,10,100],'min_samples_split':[2,6,10],'min_samples_leaf':[1,5,10]}\n",
    "rfcv=GridSearchCV(rf,rf_params,cv=4,verbose=2)\n",
    "rfcv.fit(X1_train,y1_train)\n",
    "rfcv.score(X1_test,y1_test)"
   ]
  },
  {
   "cell_type": "code",
   "execution_count": 50,
   "id": "2fd7fbf1",
   "metadata": {
    "execution": {
     "iopub.execute_input": "2023-12-08T05:52:51.884861Z",
     "iopub.status.busy": "2023-12-08T05:52:51.884472Z",
     "iopub.status.idle": "2023-12-08T05:52:51.890946Z",
     "shell.execute_reply": "2023-12-08T05:52:51.889905Z"
    },
    "papermill": {
     "duration": 0.04608,
     "end_time": "2023-12-08T05:52:51.893161",
     "exception": false,
     "start_time": "2023-12-08T05:52:51.847081",
     "status": "completed"
    },
    "tags": []
   },
   "outputs": [
    {
     "data": {
      "text/plain": [
       "{'max_depth': 100,\n",
       " 'min_samples_leaf': 1,\n",
       " 'min_samples_split': 6,\n",
       " 'n_estimators': 100}"
      ]
     },
     "execution_count": 50,
     "metadata": {},
     "output_type": "execute_result"
    }
   ],
   "source": [
    "rfcv.best_params_"
   ]
  },
  {
   "cell_type": "code",
   "execution_count": 51,
   "id": "ff1fe061",
   "metadata": {
    "execution": {
     "iopub.execute_input": "2023-12-08T05:52:51.967786Z",
     "iopub.status.busy": "2023-12-08T05:52:51.967390Z",
     "iopub.status.idle": "2023-12-08T05:55:20.456877Z",
     "shell.execute_reply": "2023-12-08T05:55:20.455522Z"
    },
    "papermill": {
     "duration": 148.530834,
     "end_time": "2023-12-08T05:55:20.460502",
     "exception": false,
     "start_time": "2023-12-08T05:52:51.929668",
     "status": "completed"
    },
    "tags": []
   },
   "outputs": [],
   "source": [
    "rfcv.best_estimator_.fit(X1,y1)\n",
    "output=rfcv.predict(test)"
   ]
  },
  {
   "cell_type": "code",
   "execution_count": 52,
   "id": "153f076a",
   "metadata": {
    "execution": {
     "iopub.execute_input": "2023-12-08T05:55:20.537908Z",
     "iopub.status.busy": "2023-12-08T05:55:20.537482Z",
     "iopub.status.idle": "2023-12-08T05:55:47.119468Z",
     "shell.execute_reply": "2023-12-08T05:55:47.118312Z"
    },
    "papermill": {
     "duration": 26.622468,
     "end_time": "2023-12-08T05:55:47.121648",
     "exception": false,
     "start_time": "2023-12-08T05:55:20.499180",
     "status": "completed"
    },
    "tags": []
   },
   "outputs": [
    {
     "data": {
      "text/plain": [
       "0.9436438050149417"
      ]
     },
     "execution_count": 52,
     "metadata": {},
     "output_type": "execute_result"
    }
   ],
   "source": [
    "gbr=GradientBoostingRegressor(random_state=42)\n",
    "gbr.fit(X1_train,y1_train)\n",
    "gbr.score(X1_test,y1_test)"
   ]
  },
  {
   "cell_type": "code",
   "execution_count": 53,
   "id": "bcd01c95",
   "metadata": {
    "execution": {
     "iopub.execute_input": "2023-12-08T05:55:47.195338Z",
     "iopub.status.busy": "2023-12-08T05:55:47.194932Z",
     "iopub.status.idle": "2023-12-08T05:55:47.199140Z",
     "shell.execute_reply": "2023-12-08T05:55:47.198121Z"
    },
    "papermill": {
     "duration": 0.043085,
     "end_time": "2023-12-08T05:55:47.201100",
     "exception": false,
     "start_time": "2023-12-08T05:55:47.158015",
     "status": "completed"
    },
    "tags": []
   },
   "outputs": [],
   "source": [
    "# gbr.fit(X1,y1)\n",
    "# output=gbr.predict(test)"
   ]
  },
  {
   "cell_type": "code",
   "execution_count": 54,
   "id": "7b58d3f3",
   "metadata": {
    "execution": {
     "iopub.execute_input": "2023-12-08T05:55:47.276922Z",
     "iopub.status.busy": "2023-12-08T05:55:47.276276Z",
     "iopub.status.idle": "2023-12-08T05:55:59.663907Z",
     "shell.execute_reply": "2023-12-08T05:55:59.662829Z"
    },
    "papermill": {
     "duration": 12.428792,
     "end_time": "2023-12-08T05:55:59.666400",
     "exception": false,
     "start_time": "2023-12-08T05:55:47.237608",
     "status": "completed"
    },
    "tags": []
   },
   "outputs": [
    {
     "data": {
      "text/plain": [
       "0.94709464951942"
      ]
     },
     "execution_count": 54,
     "metadata": {},
     "output_type": "execute_result"
    }
   ],
   "source": [
    "gbre=BaggingRegressor(random_state=42)\n",
    "gbre.fit(X1_train,y1_train)\n",
    "gbre.score(X1_test,y1_test)\n"
   ]
  },
  {
   "cell_type": "code",
   "execution_count": 55,
   "id": "ed19a2fc",
   "metadata": {
    "execution": {
     "iopub.execute_input": "2023-12-08T05:55:59.741822Z",
     "iopub.status.busy": "2023-12-08T05:55:59.741014Z",
     "iopub.status.idle": "2023-12-08T05:56:15.809080Z",
     "shell.execute_reply": "2023-12-08T05:56:15.807780Z"
    },
    "papermill": {
     "duration": 16.109023,
     "end_time": "2023-12-08T05:56:15.811977",
     "exception": false,
     "start_time": "2023-12-08T05:55:59.702954",
     "status": "completed"
    },
    "tags": []
   },
   "outputs": [],
   "source": [
    "gbre.fit(X1,y1)\n",
    "output=gbre.predict(test)"
   ]
  },
  {
   "cell_type": "code",
   "execution_count": 56,
   "id": "944584ed",
   "metadata": {
    "execution": {
     "iopub.execute_input": "2023-12-08T05:56:15.887908Z",
     "iopub.status.busy": "2023-12-08T05:56:15.887519Z",
     "iopub.status.idle": "2023-12-08T05:56:26.252397Z",
     "shell.execute_reply": "2023-12-08T05:56:26.251433Z"
    },
    "papermill": {
     "duration": 10.405797,
     "end_time": "2023-12-08T05:56:26.254692",
     "exception": false,
     "start_time": "2023-12-08T05:56:15.848895",
     "status": "completed"
    },
    "tags": []
   },
   "outputs": [
    {
     "data": {
      "text/plain": [
       "0.9560502259709515"
      ]
     },
     "execution_count": 56,
     "metadata": {},
     "output_type": "execute_result"
    }
   ],
   "source": [
    "xgb=XGBRegressor(random_state=42)\n",
    "xgb.fit(X1_train,y1_train)\n",
    "xgb.score(X1_test,y1_test)"
   ]
  },
  {
   "cell_type": "code",
   "execution_count": 57,
   "id": "61e56c74",
   "metadata": {
    "execution": {
     "iopub.execute_input": "2023-12-08T05:56:26.330732Z",
     "iopub.status.busy": "2023-12-08T05:56:26.329867Z",
     "iopub.status.idle": "2023-12-08T05:56:26.334616Z",
     "shell.execute_reply": "2023-12-08T05:56:26.333821Z"
    },
    "papermill": {
     "duration": 0.044829,
     "end_time": "2023-12-08T05:56:26.336634",
     "exception": false,
     "start_time": "2023-12-08T05:56:26.291805",
     "status": "completed"
    },
    "tags": []
   },
   "outputs": [],
   "source": [
    "# xgb.fit(X1,y1)"
   ]
  },
  {
   "cell_type": "code",
   "execution_count": 58,
   "id": "da538326",
   "metadata": {
    "execution": {
     "iopub.execute_input": "2023-12-08T05:56:26.412009Z",
     "iopub.status.busy": "2023-12-08T05:56:26.411322Z",
     "iopub.status.idle": "2023-12-08T05:56:26.416067Z",
     "shell.execute_reply": "2023-12-08T05:56:26.415300Z"
    },
    "papermill": {
     "duration": 0.044917,
     "end_time": "2023-12-08T05:56:26.418082",
     "exception": false,
     "start_time": "2023-12-08T05:56:26.373165",
     "status": "completed"
    },
    "tags": []
   },
   "outputs": [],
   "source": [
    "# output=xgb.predict(test)"
   ]
  },
  {
   "cell_type": "code",
   "execution_count": 59,
   "id": "b2d69377",
   "metadata": {
    "execution": {
     "iopub.execute_input": "2023-12-08T05:56:26.492921Z",
     "iopub.status.busy": "2023-12-08T05:56:26.492264Z",
     "iopub.status.idle": "2023-12-08T05:56:26.496725Z",
     "shell.execute_reply": "2023-12-08T05:56:26.495929Z"
    },
    "papermill": {
     "duration": 0.044186,
     "end_time": "2023-12-08T05:56:26.498813",
     "exception": false,
     "start_time": "2023-12-08T05:56:26.454627",
     "status": "completed"
    },
    "tags": []
   },
   "outputs": [],
   "source": [
    "# xgb_params={'n_estimators':[10,100,1000],'max_depth':[1,5,10],'learning_rate':[0.01,0.1,1]}\n",
    "# xgcv= GridSearchCV(xgb,xgb_params,cv=5)\n",
    "# xgcv.fit(X1_train,y1_train)\n",
    "# xgcv.score(X1_test,y1_test)"
   ]
  },
  {
   "cell_type": "code",
   "execution_count": 60,
   "id": "aa2d7970",
   "metadata": {
    "execution": {
     "iopub.execute_input": "2023-12-08T05:56:26.574270Z",
     "iopub.status.busy": "2023-12-08T05:56:26.573823Z",
     "iopub.status.idle": "2023-12-08T05:56:26.578769Z",
     "shell.execute_reply": "2023-12-08T05:56:26.577714Z"
    },
    "papermill": {
     "duration": 0.045299,
     "end_time": "2023-12-08T05:56:26.580886",
     "exception": false,
     "start_time": "2023-12-08T05:56:26.535587",
     "status": "completed"
    },
    "tags": []
   },
   "outputs": [],
   "source": [
    "# xgb_params={'n_estimators':[1000],'max_depth':[5],'learning_rate':[0.01]}\n",
    "# xgcv= GridSearchCV(xgb,xgb_params,cv=5)\n",
    "# # xgcv.fit(X1_train,y1_train)\n",
    "# # xgcv.score(X1_test,y1_test)"
   ]
  },
  {
   "cell_type": "code",
   "execution_count": 61,
   "id": "44937016",
   "metadata": {
    "execution": {
     "iopub.execute_input": "2023-12-08T05:56:26.658346Z",
     "iopub.status.busy": "2023-12-08T05:56:26.657952Z",
     "iopub.status.idle": "2023-12-08T05:56:26.662110Z",
     "shell.execute_reply": "2023-12-08T05:56:26.661053Z"
    },
    "papermill": {
     "duration": 0.045363,
     "end_time": "2023-12-08T05:56:26.664080",
     "exception": false,
     "start_time": "2023-12-08T05:56:26.618717",
     "status": "completed"
    },
    "tags": []
   },
   "outputs": [],
   "source": [
    "# xgcv.best_params_\n",
    "# xgcv.best_params_.fit(X1,y1)\n",
    "# xgcv.best_estimator_.predict(test)"
   ]
  },
  {
   "cell_type": "code",
   "execution_count": 62,
   "id": "541d1058",
   "metadata": {
    "execution": {
     "iopub.execute_input": "2023-12-08T05:56:26.742595Z",
     "iopub.status.busy": "2023-12-08T05:56:26.741925Z",
     "iopub.status.idle": "2023-12-08T05:56:26.746204Z",
     "shell.execute_reply": "2023-12-08T05:56:26.745201Z"
    },
    "papermill": {
     "duration": 0.045587,
     "end_time": "2023-12-08T05:56:26.748115",
     "exception": false,
     "start_time": "2023-12-08T05:56:26.702528",
     "status": "completed"
    },
    "tags": []
   },
   "outputs": [],
   "source": [
    "# xgcv.fit(X1,y1)"
   ]
  },
  {
   "cell_type": "code",
   "execution_count": 63,
   "id": "e66cf04c",
   "metadata": {
    "execution": {
     "iopub.execute_input": "2023-12-08T05:56:26.825273Z",
     "iopub.status.busy": "2023-12-08T05:56:26.824833Z",
     "iopub.status.idle": "2023-12-08T05:56:26.829692Z",
     "shell.execute_reply": "2023-12-08T05:56:26.828497Z"
    },
    "papermill": {
     "duration": 0.046574,
     "end_time": "2023-12-08T05:56:26.831739",
     "exception": false,
     "start_time": "2023-12-08T05:56:26.785165",
     "status": "completed"
    },
    "tags": []
   },
   "outputs": [],
   "source": [
    "# output=xgcv.predict(test)"
   ]
  },
  {
   "cell_type": "code",
   "execution_count": 64,
   "id": "1199244b",
   "metadata": {
    "execution": {
     "iopub.execute_input": "2023-12-08T05:56:26.909125Z",
     "iopub.status.busy": "2023-12-08T05:56:26.907930Z",
     "iopub.status.idle": "2023-12-08T05:56:39.123710Z",
     "shell.execute_reply": "2023-12-08T05:56:39.122554Z"
    },
    "papermill": {
     "duration": 12.257707,
     "end_time": "2023-12-08T05:56:39.126812",
     "exception": false,
     "start_time": "2023-12-08T05:56:26.869105",
     "status": "completed"
    },
    "tags": []
   },
   "outputs": [
    {
     "data": {
      "text/plain": [
       "0.844413010321428"
      ]
     },
     "execution_count": 64,
     "metadata": {},
     "output_type": "execute_result"
    }
   ],
   "source": [
    "mlp=MLPRegressor(random_state=42)\n",
    "mlp.fit(X1_train,y1_train)\n",
    "mlp.score(X1_test,y1_test)"
   ]
  },
  {
   "cell_type": "code",
   "execution_count": 65,
   "id": "29f5342c",
   "metadata": {
    "execution": {
     "iopub.execute_input": "2023-12-08T05:56:39.249630Z",
     "iopub.status.busy": "2023-12-08T05:56:39.249196Z",
     "iopub.status.idle": "2023-12-08T05:56:39.253541Z",
     "shell.execute_reply": "2023-12-08T05:56:39.252537Z"
    },
    "papermill": {
     "duration": 0.065165,
     "end_time": "2023-12-08T05:56:39.256273",
     "exception": false,
     "start_time": "2023-12-08T05:56:39.191108",
     "status": "completed"
    },
    "tags": []
   },
   "outputs": [],
   "source": [
    "# mlp_params={'activation':['relu','tanh','logistic'],'solver':['adam','sgd'],'learning_rate':['constant','adaptive']}\n",
    "# mlpcv=GridSearchCV(mlp,mlp_params,cv=5)\n",
    "# mlpcv.fit(X1_train,y1_train)\n",
    "# mlpcv.score(X1_test,y1_test)"
   ]
  },
  {
   "cell_type": "code",
   "execution_count": null,
   "id": "add28f71",
   "metadata": {
    "papermill": {
     "duration": 0.03695,
     "end_time": "2023-12-08T05:56:39.330106",
     "exception": false,
     "start_time": "2023-12-08T05:56:39.293156",
     "status": "completed"
    },
    "tags": []
   },
   "outputs": [],
   "source": []
  },
  {
   "cell_type": "code",
   "execution_count": 66,
   "id": "fd0a46cd",
   "metadata": {
    "execution": {
     "iopub.execute_input": "2023-12-08T05:56:39.406529Z",
     "iopub.status.busy": "2023-12-08T05:56:39.405308Z",
     "iopub.status.idle": "2023-12-08T05:56:39.410130Z",
     "shell.execute_reply": "2023-12-08T05:56:39.409286Z"
    },
    "papermill": {
     "duration": 0.045587,
     "end_time": "2023-12-08T05:56:39.412411",
     "exception": false,
     "start_time": "2023-12-08T05:56:39.366824",
     "status": "completed"
    },
    "tags": []
   },
   "outputs": [],
   "source": [
    "# mlpcv.fit(X1,y1)\n",
    "# output=mlpcv.predict(test)"
   ]
  },
  {
   "cell_type": "code",
   "execution_count": 67,
   "id": "b12c635a",
   "metadata": {
    "execution": {
     "iopub.execute_input": "2023-12-08T05:56:39.489229Z",
     "iopub.status.busy": "2023-12-08T05:56:39.488851Z",
     "iopub.status.idle": "2023-12-08T05:56:39.494674Z",
     "shell.execute_reply": "2023-12-08T05:56:39.493694Z"
    },
    "papermill": {
     "duration": 0.046477,
     "end_time": "2023-12-08T05:56:39.496877",
     "exception": false,
     "start_time": "2023-12-08T05:56:39.450400",
     "status": "completed"
    },
    "tags": []
   },
   "outputs": [],
   "source": [
    "output = pd.DataFrame({'ID': np.arange(1,50001), 'total_amount': output})"
   ]
  },
  {
   "cell_type": "code",
   "execution_count": 68,
   "id": "72775cf4",
   "metadata": {
    "execution": {
     "iopub.execute_input": "2023-12-08T05:56:39.573035Z",
     "iopub.status.busy": "2023-12-08T05:56:39.572659Z",
     "iopub.status.idle": "2023-12-08T05:56:39.689779Z",
     "shell.execute_reply": "2023-12-08T05:56:39.688464Z"
    },
    "papermill": {
     "duration": 0.157641,
     "end_time": "2023-12-08T05:56:39.692221",
     "exception": false,
     "start_time": "2023-12-08T05:56:39.534580",
     "status": "completed"
    },
    "tags": []
   },
   "outputs": [],
   "source": [
    "output.to_csv(\"submission.csv\", index=False)"
   ]
  },
  {
   "cell_type": "markdown",
   "id": "ceaf7b0b",
   "metadata": {
    "papermill": {
     "duration": 0.036636,
     "end_time": "2023-12-08T05:56:39.766326",
     "exception": false,
     "start_time": "2023-12-08T05:56:39.729690",
     "status": "completed"
    },
    "tags": []
   },
   "source": []
  }
 ],
 "metadata": {
  "kaggle": {
   "accelerator": "none",
   "dataSources": [
    {
     "databundleVersionId": 6604167,
     "sourceId": 61246,
     "sourceType": "competition"
    }
   ],
   "dockerImageVersionId": 30558,
   "isGpuEnabled": false,
   "isInternetEnabled": true,
   "language": "python",
   "sourceType": "notebook"
  },
  "kernelspec": {
   "display_name": "Python 3",
   "language": "python",
   "name": "python3"
  },
  "language_info": {
   "codemirror_mode": {
    "name": "ipython",
    "version": 3
   },
   "file_extension": ".py",
   "mimetype": "text/x-python",
   "name": "python",
   "nbconvert_exporter": "python",
   "pygments_lexer": "ipython3",
   "version": "3.10.12"
  },
  "papermill": {
   "default_parameters": {},
   "duration": 5564.027769,
   "end_time": "2023-12-08T05:56:40.736442",
   "environment_variables": {},
   "exception": null,
   "input_path": "__notebook__.ipynb",
   "output_path": "__notebook__.ipynb",
   "parameters": {},
   "start_time": "2023-12-08T04:23:56.708673",
   "version": "2.4.0"
  }
 },
 "nbformat": 4,
 "nbformat_minor": 5
}
